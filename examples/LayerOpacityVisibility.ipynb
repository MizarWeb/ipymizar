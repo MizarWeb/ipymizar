{
 "cells": [
  {
   "cell_type": "markdown",
   "metadata": {},
   "source": [
    "# Layer opacity and visibility"
   ]
  },
  {
   "cell_type": "code",
   "execution_count": 1,
   "metadata": {},
   "outputs": [],
   "source": [
    "from ipymizar import CRS, MizarMap, WMSLayer"
   ]
  },
  {
   "cell_type": "markdown",
   "metadata": {},
   "source": [
    "Let's add a background map first."
   ]
  },
  {
   "cell_type": "code",
   "execution_count": 2,
   "metadata": {
    "tags": []
   },
   "outputs": [
    {
     "data": {
      "application/vnd.jupyter.widget-view+json": {
       "model_id": "566c05bbe6d74b769915b775887d8467",
       "version_major": 2,
       "version_minor": 0
      },
      "text/plain": [
       "MizarMap(center=(0.0, 0.0), crs='IAU2000:49901', layers=(WMSLayer(layers='viking', url='http://idoc-wmsmars.ia…"
      ]
     },
     "metadata": {},
     "output_type": "display_data"
    }
   ],
   "source": [
    "mars = MizarMap(crs=CRS.Mars_2000)\n",
    "wms_background = WMSLayer(\n",
    "    url=\"http://idoc-wmsmars.ias.u-psud.fr/cgi-bin/mapserv?map=/home/cnes/mars/mars.map\",\n",
    "    layers=\"viking\",\n",
    "    background=True\n",
    ")\n",
    "mars.add_layer(wms_background)\n",
    "mars"
   ]
  },
  {
   "cell_type": "code",
   "execution_count": 3,
   "metadata": {},
   "outputs": [],
   "source": [
    "mars.zoom_to((1.7, 46.3), distance=2e6)"
   ]
  },
  {
   "cell_type": "markdown",
   "metadata": {},
   "source": [
    "We add a WMS layer, we have to set `transparent` to `False` if we want to be able to see the effects of changing its opacity."
   ]
  },
  {
   "cell_type": "code",
   "execution_count": 4,
   "metadata": {},
   "outputs": [],
   "source": [
    "themis = WMSLayer(\n",
    "    url=\"http://idoc-wmsmars.ias.u-psud.fr/cgi-bin/mapserv?map=/home/cnes/mars/mars.map\",\n",
    "    layers=\"themis_day_ir_100m\",\n",
    "    background=False,\n",
    "    transparent=True,\n",
    "    opacity=0.8,\n",
    "    format=\"image/png\"\n",
    ")\n",
    "mars.add_layer(themis)"
   ]
  },
  {
   "cell_type": "markdown",
   "metadata": {},
   "source": [
    "The opacity of a layer can be adapted with its `opacity` attribute (0 to 1). It can be displayed or not with its `visible` attribute."
   ]
  },
  {
   "cell_type": "code",
   "execution_count": 5,
   "metadata": {},
   "outputs": [],
   "source": [
    "themis.opacity = 0.2"
   ]
  },
  {
   "cell_type": "code",
   "execution_count": 6,
   "metadata": {},
   "outputs": [],
   "source": [
    "themis.visible = False"
   ]
  },
  {
   "cell_type": "markdown",
   "metadata": {},
   "source": [
    "Mizar layers have an `interact` method (inherited from [ipywidgets](https://ipywidgets.readthedocs.io/en/7.6.3/examples/Using%20Interact.html)) that allows to quickly create widgets to tune these properties."
   ]
  },
  {
   "cell_type": "code",
   "execution_count": 7,
   "metadata": {},
   "outputs": [
    {
     "data": {
      "application/vnd.jupyter.widget-view+json": {
       "model_id": "b2b824ec4cc94385bb166dd39bef2c50",
       "version_major": 2,
       "version_minor": 0
      },
      "text/plain": [
       "Box(children=(FloatSlider(value=0.2, description='opacity', max=1.0, step=0.05), Checkbox(value=False, descrip…"
      ]
     },
     "metadata": {},
     "output_type": "display_data"
    }
   ],
   "source": [
    "themis.interact(opacity=(0, 1, 0.05), visible=False)"
   ]
  },
  {
   "cell_type": "code",
   "execution_count": null,
   "metadata": {},
   "outputs": [],
   "source": []
  }
 ],
 "metadata": {
  "kernelspec": {
   "display_name": "Python 3",
   "language": "python",
   "name": "python3"
  },
  "language_info": {
   "codemirror_mode": {
    "name": "ipython",
    "version": 3
   },
   "file_extension": ".py",
   "mimetype": "text/x-python",
   "name": "python",
   "nbconvert_exporter": "python",
   "pygments_lexer": "ipython3",
   "version": "3.8.5"
  },
  "widgets": {
   "application/vnd.jupyter.widget-state+json": {
    "state": {
     "079011ce6e4c471d9dc20878720627d2": {
      "model_module": "@jupyter-widgets/base",
      "model_module_version": "1.2.0",
      "model_name": "LayoutModel",
      "state": {}
     },
     "220c2fff121043ef862063d8016c1c14": {
      "model_module": "jupyter-mizar",
      "model_module_version": "^0.1.0",
      "model_name": "MizarWMSLayerModel",
      "state": {
       "_model_module_version": "^0.1.0",
       "_view_module_version": "^0.1.0",
       "background": false,
       "layers": "OccSolOSO",
       "opacity": 0.55,
       "transparent": true,
       "url": "http://opf-proto.cst.cnes.fr/mapserver/"
      }
     },
     "2e0196d038a94f9c9ec76d7a37a8c333": {
      "model_module": "@jupyter-widgets/controls",
      "model_module_version": "1.5.0",
      "model_name": "CheckboxModel",
      "state": {
       "description": "visible",
       "disabled": false,
       "layout": "IPY_MODEL_8e786c95b0f248018cebdce8cb12d956",
       "style": "IPY_MODEL_b8d6970525b646e2a494f23b3ef7698b",
       "value": true
      }
     },
     "36b27498273c40f68278d99e17617f5f": {
      "model_module": "@jupyter-widgets/controls",
      "model_module_version": "1.5.0",
      "model_name": "BoxModel",
      "state": {
       "children": [
        "IPY_MODEL_adef7ff744714ac5b8abb9417c23e3fb",
        "IPY_MODEL_2e0196d038a94f9c9ec76d7a37a8c333"
       ],
       "layout": "IPY_MODEL_a31f7be0b80c46b69db7c02e6f81a6bb"
      }
     },
     "384356dee19b4cd0949c831b169c53da": {
      "model_module": "@jupyter-widgets/base",
      "model_module_version": "1.2.0",
      "model_name": "LayoutModel",
      "state": {}
     },
     "39cde3fcaa314abcaae27daab9829664": {
      "model_module": "@jupyter-widgets/base",
      "model_module_version": "1.2.0",
      "model_name": "LayoutModel",
      "state": {}
     },
     "5ab928abbb86476096d4ecb3ba4345dc": {
      "model_module": "@jupyter-widgets/base",
      "model_module_version": "1.2.0",
      "model_name": "LayoutModel",
      "state": {}
     },
     "7f6de58cb71042a185afadbe80ca02e2": {
      "model_module": "@jupyter-widgets/base",
      "model_module_version": "1.2.0",
      "model_name": "LayoutModel",
      "state": {}
     },
     "89fd9b416d3e4cf1bc651f94adc092f7": {
      "model_module": "@jupyter-widgets/controls",
      "model_module_version": "1.5.0",
      "model_name": "FloatSliderModel",
      "state": {
       "description": "opacity",
       "layout": "IPY_MODEL_bf71ee2fa80e4c58abb7dcf83a685a22",
       "max": 1,
       "step": 0.05,
       "style": "IPY_MODEL_ba6fdca7e14646fda2f7b84ddb37c1d0",
       "value": 0.55
      }
     },
     "8e786c95b0f248018cebdce8cb12d956": {
      "model_module": "@jupyter-widgets/base",
      "model_module_version": "1.2.0",
      "model_name": "LayoutModel",
      "state": {}
     },
     "9068f83dc5df4c369985712ab04909c1": {
      "model_module": "jupyter-mizar",
      "model_module_version": "^0.1.0",
      "model_name": "MizarWMSLayerModel",
      "state": {
       "_model_module_version": "^0.1.0",
       "_view_module_version": "^0.1.0",
       "layers": "hysope-background-global",
       "url": "http://hysope-proto.cst.cnes.fr/map/wms"
      }
     },
     "90fbd48493de4f5b8bb25f5bfedaa426": {
      "model_module": "@jupyter-widgets/controls",
      "model_module_version": "1.5.0",
      "model_name": "CheckboxModel",
      "state": {
       "description": "visible",
       "disabled": false,
       "layout": "IPY_MODEL_39cde3fcaa314abcaae27daab9829664",
       "style": "IPY_MODEL_d58bc139045c41bca360c1ac429f0861",
       "value": true
      }
     },
     "95cdb711fd1444b1b7bf11f9edf3e770": {
      "model_module": "@jupyter-widgets/controls",
      "model_module_version": "1.5.0",
      "model_name": "FloatSliderModel",
      "state": {
       "description": "opacity",
       "layout": "IPY_MODEL_ea7617c398c84b2e8d07878539f09058",
       "max": 1,
       "step": 0.05,
       "style": "IPY_MODEL_d08de6e716d041c69c900e91cb30730f",
       "value": 0.55
      }
     },
     "a31f7be0b80c46b69db7c02e6f81a6bb": {
      "model_module": "@jupyter-widgets/base",
      "model_module_version": "1.2.0",
      "model_name": "LayoutModel",
      "state": {}
     },
     "adef7ff744714ac5b8abb9417c23e3fb": {
      "model_module": "@jupyter-widgets/controls",
      "model_module_version": "1.5.0",
      "model_name": "FloatSliderModel",
      "state": {
       "description": "opacity",
       "layout": "IPY_MODEL_7f6de58cb71042a185afadbe80ca02e2",
       "max": 1,
       "step": 0.05,
       "style": "IPY_MODEL_bbecf7caa18147a1ac54ab0a62bb8844",
       "value": 0.55
      }
     },
     "b8d6970525b646e2a494f23b3ef7698b": {
      "model_module": "@jupyter-widgets/controls",
      "model_module_version": "1.5.0",
      "model_name": "DescriptionStyleModel",
      "state": {
       "description_width": ""
      }
     },
     "ba6fdca7e14646fda2f7b84ddb37c1d0": {
      "model_module": "@jupyter-widgets/controls",
      "model_module_version": "1.5.0",
      "model_name": "SliderStyleModel",
      "state": {
       "description_width": ""
      }
     },
     "bbecf7caa18147a1ac54ab0a62bb8844": {
      "model_module": "@jupyter-widgets/controls",
      "model_module_version": "1.5.0",
      "model_name": "SliderStyleModel",
      "state": {
       "description_width": ""
      }
     },
     "bf71ee2fa80e4c58abb7dcf83a685a22": {
      "model_module": "@jupyter-widgets/base",
      "model_module_version": "1.2.0",
      "model_name": "LayoutModel",
      "state": {}
     },
     "c039037fc27c40e585b39b35d8f87d76": {
      "model_module": "@jupyter-widgets/controls",
      "model_module_version": "1.5.0",
      "model_name": "BoxModel",
      "state": {
       "children": [
        "IPY_MODEL_95cdb711fd1444b1b7bf11f9edf3e770",
        "IPY_MODEL_df03c9c278424477845e089ce7346c21"
       ],
       "layout": "IPY_MODEL_eb75404ee61f433599b17bf8c9ff51e3"
      }
     },
     "c313c36393bb4532832dfc0e2cb24a04": {
      "model_module": "@jupyter-widgets/controls",
      "model_module_version": "1.5.0",
      "model_name": "DescriptionStyleModel",
      "state": {
       "description_width": ""
      }
     },
     "d08de6e716d041c69c900e91cb30730f": {
      "model_module": "@jupyter-widgets/controls",
      "model_module_version": "1.5.0",
      "model_name": "SliderStyleModel",
      "state": {
       "description_width": ""
      }
     },
     "d58bc139045c41bca360c1ac429f0861": {
      "model_module": "@jupyter-widgets/controls",
      "model_module_version": "1.5.0",
      "model_name": "DescriptionStyleModel",
      "state": {
       "description_width": ""
      }
     },
     "df03c9c278424477845e089ce7346c21": {
      "model_module": "@jupyter-widgets/controls",
      "model_module_version": "1.5.0",
      "model_name": "DropdownModel",
      "state": {
       "_options_labels": [
        "True",
        "False"
       ],
       "description": "visible",
       "index": 0,
       "layout": "IPY_MODEL_384356dee19b4cd0949c831b169c53da",
       "style": "IPY_MODEL_c313c36393bb4532832dfc0e2cb24a04"
      }
     },
     "e3e9d99e35b845919d5a039b45344375": {
      "model_module": "@jupyter-widgets/controls",
      "model_module_version": "1.5.0",
      "model_name": "BoxModel",
      "state": {
       "children": [
        "IPY_MODEL_89fd9b416d3e4cf1bc651f94adc092f7",
        "IPY_MODEL_90fbd48493de4f5b8bb25f5bfedaa426"
       ],
       "layout": "IPY_MODEL_079011ce6e4c471d9dc20878720627d2"
      }
     },
     "ea7077b148f241e2bcb857da220dfd21": {
      "model_module": "jupyter-mizar",
      "model_module_version": "^0.1.0",
      "model_name": "MizarMapModel",
      "state": {
       "_geo_pos": [
        1.7,
        46.3
       ],
       "_model_module_version": "^0.1.0",
       "_view_module_version": "^0.1.0",
       "_zoom_to_opts": {
        "distance": 2000000
       },
       "layers": [
        "IPY_MODEL_9068f83dc5df4c369985712ab04909c1",
        "IPY_MODEL_220c2fff121043ef862063d8016c1c14"
       ],
       "layout": "IPY_MODEL_5ab928abbb86476096d4ecb3ba4345dc",
       "options": [],
       "time": "",
       "window_url": "http://localhost:8888/lab/tree/Opacity.ipynb",
       "zoom": [
        0,
        0
       ]
      }
     },
     "ea7617c398c84b2e8d07878539f09058": {
      "model_module": "@jupyter-widgets/base",
      "model_module_version": "1.2.0",
      "model_name": "LayoutModel",
      "state": {}
     },
     "eb75404ee61f433599b17bf8c9ff51e3": {
      "model_module": "@jupyter-widgets/base",
      "model_module_version": "1.2.0",
      "model_name": "LayoutModel",
      "state": {}
     }
    },
    "version_major": 2,
    "version_minor": 0
   }
  }
 },
 "nbformat": 4,
 "nbformat_minor": 5
}
