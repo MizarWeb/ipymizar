{
 "cells": [
  {
   "cell_type": "markdown",
   "id": "a27b77da-cc89-4284-b4fb-7f64fbbd30f9",
   "metadata": {},
   "source": [
    "# Temporal WMS"
   ]
  },
  {
   "cell_type": "code",
   "execution_count": null,
   "id": "f975276d-2941-4228-ae5f-9b5c7c8832c8",
   "metadata": {},
   "outputs": [],
   "source": [
    "from ipymizar import CRS, MizarMap, WMSLayer"
   ]
  },
  {
   "cell_type": "markdown",
   "id": "8b647359-f1b6-49db-ade8-720600ea1055",
   "metadata": {},
   "source": [
    "Let's add a background WMS map."
   ]
  },
  {
   "cell_type": "code",
   "execution_count": null,
   "id": "a673c8c1-a0bf-4eb1-86f8-6a4fe7251488",
   "metadata": {
    "tags": []
   },
   "outputs": [],
   "source": [
    "earth = MizarMap(crs=CRS.WGS84)\n",
    "wms = WMSLayer(\n",
    "    url=\"http://hysope-proto.cst.cnes.fr/map/wms\",\n",
    "    layers=\"hysope-background-global\",\n",
    "    background=True\n",
    ")\n",
    "earth.add_layer(wms)\n",
    "earth"
   ]
  },
  {
   "cell_type": "markdown",
   "id": "a055090d-845c-41eb-87a0-55540aed8177",
   "metadata": {},
   "source": [
    "We're going to add another WMS layer (on top on the first one), let's zoom first to its location"
   ]
  },
  {
   "cell_type": "code",
   "execution_count": null,
   "id": "bd8649cd-31db-4dca-9085-bc4e4eb04661",
   "metadata": {},
   "outputs": [],
   "source": [
    "earth.zoom_to((1.7, 46.3), distance=2e6)"
   ]
  },
  {
   "cell_type": "code",
   "execution_count": null,
   "id": "f3b3a4f9-834c-4497-93ec-aeaf04d93f50",
   "metadata": {},
   "outputs": [],
   "source": [
    "earth.time = \"2017-01-01T00:00:00.000Z\"\n",
    "occSol = WMSLayer(\n",
    "    url=\"http://opf-proto.cst.cnes.fr/mapserver/\",\n",
    "    layers=\"OccSolOSO\",\n",
    "    background=False,\n",
    "    transparent=True,\n",
    "    format=\"image/png\"\n",
    ")\n",
    "earth.add_layer(occSol)"
   ]
  },
  {
   "cell_type": "markdown",
   "id": "fe7f135d-c99c-4083-add4-24af698ba649",
   "metadata": {},
   "source": [
    "The *OccSolOSO* layer has a temporal dimension (one map per year). By setting the `time` attribute (str) of the **Map**, it is possible to see the different versions of this map."
   ]
  },
  {
   "cell_type": "code",
   "execution_count": null,
   "id": "5957bea9-7f0d-4c99-83fe-10cc28fa5562",
   "metadata": {},
   "outputs": [],
   "source": [
    "earth.time = \"2016-01-01T00:00:00.000Z\""
   ]
  },
  {
   "cell_type": "code",
   "execution_count": null,
   "id": "6f81c4a9-8d9f-41fd-8e74-c6f84a6ad831",
   "metadata": {},
   "outputs": [],
   "source": [
    "earth.time = \"2018-01-01T00:00:00.000Z\""
   ]
  },
  {
   "cell_type": "markdown",
   "id": "932b2d77-11f4-4d95-95a5-4c0a84a09d6e",
   "metadata": {},
   "source": [
    "A Mizar map has a `interact` method that allows to quickly generate widgets useful to modify its properties interactively."
   ]
  },
  {
   "cell_type": "code",
   "execution_count": null,
   "id": "9b868728-9801-418f-bb1e-98a751aee465",
   "metadata": {},
   "outputs": [],
   "source": [
    "earth.interact(time=[\"2016-01-01T00:00:00.000Z\", \"2018-01-01T00:00:00.000Z\", \"2017-01-01T00:00:00.000Z\"])"
   ]
  }
 ],
 "metadata": {
  "kernelspec": {
   "display_name": "Python 3",
   "language": "python",
   "name": "python3"
  },
  "language_info": {
   "codemirror_mode": {
    "name": "ipython",
    "version": 3
   },
   "file_extension": ".py",
   "mimetype": "text/x-python",
   "name": "python",
   "nbconvert_exporter": "python",
   "pygments_lexer": "ipython3",
   "version": "3.6.13"
  },
  "widgets": {
   "application/vnd.jupyter.widget-state+json": {
    "state": {
     "1c21080744d840f0a527ef3e444ef332": {
      "model_module": "@jupyter-widgets/controls",
      "model_module_version": "1.5.0",
      "model_name": "DropdownModel",
      "state": {
       "_options_labels": [
        "2016-01-01T00:00:00.000Z",
        "2018-01-01T00:00:00.000Z",
        "2017-01-01T00:00:00.000Z"
       ],
       "description": "time",
       "index": 2,
       "layout": "IPY_MODEL_9882eabfed4e4da4b7a9394d3b5c7d01",
       "style": "IPY_MODEL_2e1639c3321a460a91201348859b583f"
      }
     },
     "276c9541aff9445dbe294891d9678ca3": {
      "model_module": "@jupyter-widgets/controls",
      "model_module_version": "1.5.0",
      "model_name": "DropdownModel",
      "state": {
       "_options_labels": [
        "2016-01-01T00:00:00.000Z",
        "2018-01-01T00:00:00.000Z",
        "2017-01-01T00:00:00.000Z"
       ],
       "description": "time",
       "index": 0,
       "layout": "IPY_MODEL_f76e31ee85ae4cc1aff938a0d93619ae",
       "style": "IPY_MODEL_9d5ac5d52dc24fd08c6ea0f731e989e6"
      }
     },
     "2e1639c3321a460a91201348859b583f": {
      "model_module": "@jupyter-widgets/controls",
      "model_module_version": "1.5.0",
      "model_name": "DescriptionStyleModel",
      "state": {
       "description_width": ""
      }
     },
     "3377ff9d84374bf692febe27c513f70d": {
      "model_module": "jupyter-mizar",
      "model_module_version": "^0.1.0",
      "model_name": "MizarWMSLayerModel",
      "state": {
       "_model_module_version": "^0.1.0",
       "_view_module_version": "^0.1.0",
       "layers": "hysope-background-global",
       "url": "http://hysope-proto.cst.cnes.fr/map/wms"
      }
     },
     "352b4fedc5064dccbd13b6535c776eb3": {
      "model_module": "jupyter-mizar",
      "model_module_version": "^0.1.0",
      "model_name": "MizarMapModel",
      "state": {
       "_geo_pos": [
        1.7,
        46.3
       ],
       "_model_module_version": "^0.1.0",
       "_view_module_version": "^0.1.0",
       "_zoom_to_opts": {
        "distance": 2000000
       },
       "layers": [
        "IPY_MODEL_9d0fd8c4aa9247fdae8c3c4eaf9464ba",
        "IPY_MODEL_4d82f683b6354f76ae807eed0b2ac802"
       ],
       "layout": "IPY_MODEL_443aa5602ff947a9a3b5e975ae4269c5",
       "options": [],
       "time": "2016-01-01T00:00:00.000Z",
       "window_url": "http://localhost:8888/lab/tree/WMS-Time.ipynb",
       "zoom": [
        0,
        0
       ]
      }
     },
     "443aa5602ff947a9a3b5e975ae4269c5": {
      "model_module": "@jupyter-widgets/base",
      "model_module_version": "1.2.0",
      "model_name": "LayoutModel",
      "state": {}
     },
     "4d82f683b6354f76ae807eed0b2ac802": {
      "model_module": "jupyter-mizar",
      "model_module_version": "^0.1.0",
      "model_name": "MizarWMSLayerModel",
      "state": {
       "_model_module_version": "^0.1.0",
       "_view_module_version": "^0.1.0",
       "background": false,
       "format": "image/png",
       "layers": "OccSolOSO",
       "transparent": true,
       "url": "http://opf-proto.cst.cnes.fr/mapserver/"
      }
     },
     "56653142526a4fd69b02f83ae8bccc98": {
      "model_module": "@jupyter-widgets/base",
      "model_module_version": "1.2.0",
      "model_name": "LayoutModel",
      "state": {}
     },
     "6b3d5a5712d145789c9346e6d85ea74d": {
      "model_module": "jupyter-mizar",
      "model_module_version": "^0.1.0",
      "model_name": "MizarWMSLayerModel",
      "state": {
       "_model_module_version": "^0.1.0",
       "_view_module_version": "^0.1.0",
       "background": false,
       "format": "image/png",
       "layers": "OccSolOSO",
       "transparent": true,
       "url": "http://opf-proto.cst.cnes.fr/mapserver/"
      }
     },
     "7af2fe2944f6411b8416c1ca8af06179": {
      "model_module": "jupyter-mizar",
      "model_module_version": "^0.1.0",
      "model_name": "MizarMapModel",
      "state": {
       "_geo_pos": [
        1.7,
        46.3
       ],
       "_model_module_version": "^0.1.0",
       "_view_module_version": "^0.1.0",
       "_zoom_to_opts": {
        "distance": 2000000
       },
       "layers": [
        "IPY_MODEL_3377ff9d84374bf692febe27c513f70d",
        "IPY_MODEL_6b3d5a5712d145789c9346e6d85ea74d"
       ],
       "layout": "IPY_MODEL_ce47c8884d20472b94a338e85a56940e",
       "options": [],
       "time": "2017-01-01T00:00:00.000Z",
       "window_url": "http://localhost:8888/lab/tree/WMS-Time.ipynb",
       "zoom": [
        0,
        0
       ]
      }
     },
     "7d7447268c1b48bd8cd104c993568da6": {
      "model_module": "@jupyter-widgets/controls",
      "model_module_version": "1.5.0",
      "model_name": "BoxModel",
      "state": {
       "children": [
        "IPY_MODEL_276c9541aff9445dbe294891d9678ca3"
       ],
       "layout": "IPY_MODEL_9bfed903d9634050acd6930cf46f84e9"
      }
     },
     "9882eabfed4e4da4b7a9394d3b5c7d01": {
      "model_module": "@jupyter-widgets/base",
      "model_module_version": "1.2.0",
      "model_name": "LayoutModel",
      "state": {}
     },
     "9bfed903d9634050acd6930cf46f84e9": {
      "model_module": "@jupyter-widgets/base",
      "model_module_version": "1.2.0",
      "model_name": "LayoutModel",
      "state": {}
     },
     "9d0fd8c4aa9247fdae8c3c4eaf9464ba": {
      "model_module": "jupyter-mizar",
      "model_module_version": "^0.1.0",
      "model_name": "MizarWMSLayerModel",
      "state": {
       "_model_module_version": "^0.1.0",
       "_view_module_version": "^0.1.0",
       "layers": "hysope-background-global",
       "url": "http://hysope-proto.cst.cnes.fr/map/wms"
      }
     },
     "9d5ac5d52dc24fd08c6ea0f731e989e6": {
      "model_module": "@jupyter-widgets/controls",
      "model_module_version": "1.5.0",
      "model_name": "DescriptionStyleModel",
      "state": {
       "description_width": ""
      }
     },
     "ce47c8884d20472b94a338e85a56940e": {
      "model_module": "@jupyter-widgets/base",
      "model_module_version": "1.2.0",
      "model_name": "LayoutModel",
      "state": {}
     },
     "e475d2b799894c329718fc8eb49119b0": {
      "model_module": "@jupyter-widgets/controls",
      "model_module_version": "1.5.0",
      "model_name": "BoxModel",
      "state": {
       "children": [
        "IPY_MODEL_1c21080744d840f0a527ef3e444ef332"
       ],
       "layout": "IPY_MODEL_56653142526a4fd69b02f83ae8bccc98"
      }
     },
     "f76e31ee85ae4cc1aff938a0d93619ae": {
      "model_module": "@jupyter-widgets/base",
      "model_module_version": "1.2.0",
      "model_name": "LayoutModel",
      "state": {}
     }
    },
    "version_major": 2,
    "version_minor": 0
   }
  }
 },
 "nbformat": 4,
 "nbformat_minor": 5
}
