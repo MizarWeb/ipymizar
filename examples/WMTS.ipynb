{
 "cells": [
  {
   "cell_type": "code",
   "execution_count": null,
   "id": "68fd5733-e44f-4ca7-9450-5fee9e043976",
   "metadata": {},
   "outputs": [],
   "source": [
    "# To avoid having to restart the kernel\n",
    "%load_ext autoreload\n",
    "%autoreload 2"
   ]
  },
  {
   "cell_type": "code",
   "execution_count": null,
   "id": "f975276d-2941-4228-ae5f-9b5c7c8832c8",
   "metadata": {},
   "outputs": [],
   "source": [
    "from ipymizar import CRS, MizarMap, WMTSLayer"
   ]
  },
  {
   "cell_type": "code",
   "execution_count": null,
   "id": "a673c8c1-a0bf-4eb1-86f8-6a4fe7251488",
   "metadata": {},
   "outputs": [],
   "source": [
    "earth = MizarMap(crs=CRS.WGS84)\n",
    "wmts = WMTSLayer(url=\"https://sampleserver6.arcgisonline.com/arcgis/rest/services/WorldTimeZones/MapServer/WMTS\", layers=\"WorldTimeZones\")\n",
    "earth.add_layer(wmts)\n",
    "earth"
   ]
  },
  {
   "cell_type": "code",
   "execution_count": null,
   "id": "2a4c3af5-b405-4171-987a-0e4984a37905",
   "metadata": {},
   "outputs": [],
   "source": [
    "wmts.url"
   ]
  },
  {
   "cell_type": "code",
   "execution_count": null,
   "id": "f3b3a4f9-834c-4497-93ec-aeaf04d93f50",
   "metadata": {},
   "outputs": [],
   "source": []
  }
 ],
 "metadata": {
  "kernelspec": {
   "display_name": "Python 3",
   "language": "python",
   "name": "python3"
  },
  "language_info": {
   "codemirror_mode": {
    "name": "ipython",
    "version": 3
   },
   "file_extension": ".py",
   "mimetype": "text/x-python",
   "name": "python",
   "nbconvert_exporter": "python",
   "pygments_lexer": "ipython3",
   "version": "3.6.13"
  },
  "widgets": {
   "application/vnd.jupyter.widget-state+json": {
    "state": {
     "3872a92d67bc47aeb8f9cccf7d81303f": {
      "model_module": "jupyter-mizar",
      "model_module_version": "^0.1.0",
      "model_name": "MizarWMTSLayerModel",
      "state": {
       "_model_module_version": "^0.1.0",
       "_view_module_version": "^0.1.0",
       "layers": "WorldTimeZones",
       "url": "https://sampleserver6.arcgisonline.com/arcgis/rest/services/WorldTimeZones/MapServer/WMTS"
      }
     },
     "b59ca12537004fe6a8d1691f6bb2e178": {
      "model_module": "@jupyter-widgets/base",
      "model_module_version": "1.2.0",
      "model_name": "LayoutModel",
      "state": {}
     },
     "ee1b3e0f772446ccbf6b2326864ce748": {
      "model_module": "jupyter-mizar",
      "model_module_version": "^0.1.0",
      "model_name": "MizarMapModel",
      "state": {
       "_model_module_version": "^0.1.0",
       "_view_module_version": "^0.1.0",
       "layers": [
        "IPY_MODEL_3872a92d67bc47aeb8f9cccf7d81303f"
       ],
       "layout": "IPY_MODEL_b59ca12537004fe6a8d1691f6bb2e178",
       "options": [],
       "window_url": "http://localhost:8888/lab/tree/WMTS.ipynb",
       "zoom": [
        0,
        0
       ]
      }
     }
    },
    "version_major": 2,
    "version_minor": 0
   }
  }
 },
 "nbformat": 4,
 "nbformat_minor": 5
}
