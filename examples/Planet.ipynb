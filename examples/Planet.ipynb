{
 "cells": [
  {
   "cell_type": "code",
   "execution_count": null,
   "id": "6641d263-acd2-4b61-93fb-41cb35c7dd46",
   "metadata": {},
   "outputs": [],
   "source": [
    "from ipymizar import Planet"
   ]
  },
  {
   "cell_type": "code",
   "execution_count": null,
   "id": "c78bd345-9732-46be-8914-f9929e79abe3",
   "metadata": {},
   "outputs": [],
   "source": [
    "p = Planet()"
   ]
  },
  {
   "cell_type": "code",
   "execution_count": null,
   "id": "6a021e17-1d20-4891-af8b-6c035f81538c",
   "metadata": {},
   "outputs": [],
   "source": [
    "p"
   ]
  },
  {
   "cell_type": "code",
   "execution_count": null,
   "id": "416661b2-8f5a-4094-8a01-70bf101bd079",
   "metadata": {},
   "outputs": [],
   "source": [
    "p"
   ]
  },
  {
   "cell_type": "code",
   "execution_count": null,
   "id": "221d247e-8d10-46ba-ac98-7bd31569f5e3",
   "metadata": {},
   "outputs": [],
   "source": [
    "p.interact(width=(100, 500, 50), height=(100, 500, 50))"
   ]
  }
 ],
 "metadata": {
  "kernelspec": {
   "display_name": "Python 3",
   "language": "python",
   "name": "python3"
  },
  "language_info": {
   "codemirror_mode": {
    "name": "ipython",
    "version": 3
   },
   "file_extension": ".py",
   "mimetype": "text/x-python",
   "name": "python",
   "nbconvert_exporter": "python",
   "pygments_lexer": "ipython3",
   "version": "3.6.13"
  },
  "widgets": {
   "application/vnd.jupyter.widget-state+json": {
    "state": {
     "08cba7064cfa45b28c78336d756199cd": {
      "model_module": "@jupyter-widgets/controls",
      "model_module_version": "1.5.0",
      "model_name": "SliderStyleModel",
      "state": {
       "description_width": ""
      }
     },
     "1f800ee5e5cd4f4895fd3a0366a29124": {
      "model_module": "@jupyter-widgets/controls",
      "model_module_version": "1.5.0",
      "model_name": "IntSliderModel",
      "state": {
       "description": "height",
       "layout": "IPY_MODEL_4db075f1bd094db3be6c63d94c4ba1ff",
       "max": 500,
       "min": 100,
       "step": 50,
       "style": "IPY_MODEL_08cba7064cfa45b28c78336d756199cd",
       "value": 450
      }
     },
     "42aec6bb7a0547c187cd5c91bbd6e28c": {
      "model_module": "@jupyter-widgets/base",
      "model_module_version": "1.2.0",
      "model_name": "LayoutModel",
      "state": {}
     },
     "42c6fb54cdfa4578af282a7376010901": {
      "model_module": "@jupyter-widgets/controls",
      "model_module_version": "1.5.0",
      "model_name": "IntSliderModel",
      "state": {
       "description": "width",
       "layout": "IPY_MODEL_52ea8e47f1214cc6974bd1b7556917b5",
       "max": 500,
       "min": 200,
       "step": 50,
       "style": "IPY_MODEL_4e574200c9d0408fa88fb5164a542560",
       "value": 350
      }
     },
     "438660d8ddab401aac6bf60d99a7f1c6": {
      "model_module": "@jupyter-widgets/controls",
      "model_module_version": "1.5.0",
      "model_name": "IntSliderModel",
      "state": {
       "description": "width",
       "layout": "IPY_MODEL_c7ceb2d5981f47688901ef98b8741ed9",
       "max": 500,
       "min": 100,
       "step": 50,
       "style": "IPY_MODEL_b61f2d34dccc4d6db99c2c5dbb5aec25",
       "value": 350
      }
     },
     "4db075f1bd094db3be6c63d94c4ba1ff": {
      "model_module": "@jupyter-widgets/base",
      "model_module_version": "1.2.0",
      "model_name": "LayoutModel",
      "state": {}
     },
     "4e574200c9d0408fa88fb5164a542560": {
      "model_module": "@jupyter-widgets/controls",
      "model_module_version": "1.5.0",
      "model_name": "SliderStyleModel",
      "state": {
       "description_width": ""
      }
     },
     "52ea8e47f1214cc6974bd1b7556917b5": {
      "model_module": "@jupyter-widgets/base",
      "model_module_version": "1.2.0",
      "model_name": "LayoutModel",
      "state": {}
     },
     "5a5d64e9dd18499697373e246727a60b": {
      "model_module": "jupyter-mizar",
      "model_module_version": "^0.1.0",
      "model_name": "MizarPlanetModel",
      "state": {
       "_model_module_version": "^0.1.0",
       "_view_module_version": "^0.1.0",
       "fullscreen": false,
       "height": 450,
       "interpolation": "bilinear",
       "layout": "IPY_MODEL_bcc2e98530754708a8bebe02d6109a62",
       "modisdate": "yesterday",
       "options": [
        "bounce_at_zoom_limits",
        "box_zoom",
        "double_click_zoom",
        "dragging",
        "fullscreen",
        "inertia",
        "inertia_deceleration",
        "inertia_max_speed",
        "interpolation",
        "keyboard",
        "keyboard_pan_offset",
        "keyboard_zoom_offset",
        "max_zoom",
        "min_zoom",
        "scroll_wheel_zoom",
        "tap",
        "tap_tolerance",
        "touch_zoom",
        "world_copy_jump",
        "zoom",
        "zoom_animation_threshold",
        "zoom_delta",
        "zoom_start"
       ],
       "width": 350,
       "window_url": "http://localhost:8888/lab/tree/Map.ipynb"
      }
     },
     "6fa1a8c6d4fb4790ba604734d1ab165a": {
      "model_module": "@jupyter-widgets/controls",
      "model_module_version": "1.5.0",
      "model_name": "BoxModel",
      "state": {
       "children": [
        "IPY_MODEL_438660d8ddab401aac6bf60d99a7f1c6",
        "IPY_MODEL_1f800ee5e5cd4f4895fd3a0366a29124"
       ],
       "layout": "IPY_MODEL_9818438c7dc44709824d40896200af1e"
      }
     },
     "7c313dbca4a145f0a82d2e5560cb53ef": {
      "model_module": "jupyter-mizar",
      "model_module_version": "^0.1.0",
      "model_name": "MizarPlanetModel",
      "state": {
       "_model_module_version": "^0.1.0",
       "_view_module_version": "^0.1.0",
       "fullscreen": false,
       "interpolation": "bilinear",
       "layout": "IPY_MODEL_b343c8cb8dfe4f8fa6a2c43f3e7b8391",
       "modisdate": "yesterday",
       "options": [
        "bounce_at_zoom_limits",
        "box_zoom",
        "double_click_zoom",
        "dragging",
        "fullscreen",
        "inertia",
        "inertia_deceleration",
        "inertia_max_speed",
        "interpolation",
        "keyboard",
        "keyboard_pan_offset",
        "keyboard_zoom_offset",
        "max_zoom",
        "min_zoom",
        "scroll_wheel_zoom",
        "tap",
        "tap_tolerance",
        "touch_zoom",
        "world_copy_jump",
        "zoom",
        "zoom_animation_threshold",
        "zoom_delta",
        "zoom_start"
       ],
       "window_url": "http://localhost:8888/lab/tree/Map.ipynb"
      }
     },
     "85b321fc2d514ea8a1da1307480f472f": {
      "model_module": "@jupyter-widgets/controls",
      "model_module_version": "1.5.0",
      "model_name": "BoxModel",
      "state": {
       "children": [
        "IPY_MODEL_42c6fb54cdfa4578af282a7376010901"
       ],
       "layout": "IPY_MODEL_42aec6bb7a0547c187cd5c91bbd6e28c"
      }
     },
     "9818438c7dc44709824d40896200af1e": {
      "model_module": "@jupyter-widgets/base",
      "model_module_version": "1.2.0",
      "model_name": "LayoutModel",
      "state": {}
     },
     "b01f000701874606b82e4da890c17801": {
      "model_module": "jupyter-mizar",
      "model_module_version": "^0.1.0",
      "model_name": "MizarPlanetModel",
      "state": {
       "_model_module_version": "^0.1.0",
       "_view_module_version": "^0.1.0",
       "fullscreen": false,
       "interpolation": "bilinear",
       "layout": "IPY_MODEL_ddd61b7687b54bc1a6da666e4f673a4a",
       "modisdate": "yesterday",
       "options": [
        "bounce_at_zoom_limits",
        "box_zoom",
        "double_click_zoom",
        "dragging",
        "fullscreen",
        "inertia",
        "inertia_deceleration",
        "inertia_max_speed",
        "interpolation",
        "keyboard",
        "keyboard_pan_offset",
        "keyboard_zoom_offset",
        "max_zoom",
        "min_zoom",
        "scroll_wheel_zoom",
        "tap",
        "tap_tolerance",
        "touch_zoom",
        "world_copy_jump",
        "zoom",
        "zoom_animation_threshold",
        "zoom_delta",
        "zoom_start"
       ],
       "window_url": "http://localhost:8888/lab/tree/Map.ipynb"
      }
     },
     "b343c8cb8dfe4f8fa6a2c43f3e7b8391": {
      "model_module": "@jupyter-widgets/base",
      "model_module_version": "1.2.0",
      "model_name": "LayoutModel",
      "state": {}
     },
     "b61f2d34dccc4d6db99c2c5dbb5aec25": {
      "model_module": "@jupyter-widgets/controls",
      "model_module_version": "1.5.0",
      "model_name": "SliderStyleModel",
      "state": {
       "description_width": ""
      }
     },
     "b7ef883c2c224c20886d16d3d2dd24c7": {
      "model_module": "jupyter-mizar",
      "model_module_version": "^0.1.0",
      "model_name": "MizarPlanetModel",
      "state": {
       "_model_module_version": "^0.1.0",
       "_view_module_version": "^0.1.0",
       "fullscreen": false,
       "interpolation": "bilinear",
       "layout": "IPY_MODEL_ccab258ac1d04ef6a9ae4267195b9946",
       "modisdate": "yesterday",
       "options": [
        "bounce_at_zoom_limits",
        "box_zoom",
        "double_click_zoom",
        "dragging",
        "fullscreen",
        "inertia",
        "inertia_deceleration",
        "inertia_max_speed",
        "interpolation",
        "keyboard",
        "keyboard_pan_offset",
        "keyboard_zoom_offset",
        "max_zoom",
        "min_zoom",
        "scroll_wheel_zoom",
        "tap",
        "tap_tolerance",
        "touch_zoom",
        "world_copy_jump",
        "zoom",
        "zoom_animation_threshold",
        "zoom_delta",
        "zoom_start"
       ],
       "width": 200,
       "window_url": "http://localhost:8888/lab/tree/Map.ipynb"
      }
     },
     "bcc2e98530754708a8bebe02d6109a62": {
      "model_module": "@jupyter-widgets/base",
      "model_module_version": "1.2.0",
      "model_name": "LayoutModel",
      "state": {}
     },
     "c7ceb2d5981f47688901ef98b8741ed9": {
      "model_module": "@jupyter-widgets/base",
      "model_module_version": "1.2.0",
      "model_name": "LayoutModel",
      "state": {}
     },
     "ccab258ac1d04ef6a9ae4267195b9946": {
      "model_module": "@jupyter-widgets/base",
      "model_module_version": "1.2.0",
      "model_name": "LayoutModel",
      "state": {}
     },
     "ddd61b7687b54bc1a6da666e4f673a4a": {
      "model_module": "@jupyter-widgets/base",
      "model_module_version": "1.2.0",
      "model_name": "LayoutModel",
      "state": {}
     }
    },
    "version_major": 2,
    "version_minor": 0
   }
  }
 },
 "nbformat": 4,
 "nbformat_minor": 5
}
