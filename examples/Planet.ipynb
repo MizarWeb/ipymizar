{
 "cells": [
  {
   "cell_type": "code",
   "execution_count": 1,
   "id": "6641d263-acd2-4b61-93fb-41cb35c7dd46",
   "metadata": {},
   "outputs": [],
   "source": [
    "from ipymizar import MizarMap, CRS, WMSLayer"
   ]
  },
  {
   "cell_type": "code",
   "execution_count": 2,
   "id": "c78bd345-9732-46be-8914-f9929e79abe3",
   "metadata": {},
   "outputs": [],
   "source": [
    "p = MizarMap(crs=CRS.WGS84)"
   ]
  },
  {
   "cell_type": "code",
   "execution_count": 3,
   "id": "6a021e17-1d20-4891-af8b-6c035f81538c",
   "metadata": {},
   "outputs": [
    {
     "data": {
      "application/vnd.jupyter.widget-view+json": {
       "model_id": "07135a8aab5640c2a2c6efc536970f9e",
       "version_major": 2,
       "version_minor": 0
      },
      "text/plain": [
       "MizarMap()"
      ]
     },
     "metadata": {},
     "output_type": "display_data"
    }
   ],
   "source": [
    "p"
   ]
  },
  {
   "cell_type": "code",
   "execution_count": 4,
   "id": "7b8e2610-ee70-4f83-837a-3c716bab6c43",
   "metadata": {},
   "outputs": [
    {
     "data": {
      "text/plain": [
       "(0.0, 0.0)"
      ]
     },
     "execution_count": 4,
     "metadata": {},
     "output_type": "execute_result"
    }
   ],
   "source": [
    "p.zoom"
   ]
  },
  {
   "cell_type": "code",
   "execution_count": 5,
   "id": "e73d638f-3fb4-4d6c-a4b1-43f08cfb8e37",
   "metadata": {},
   "outputs": [],
   "source": [
    "p.zoom = (20, 30)"
   ]
  },
  {
   "cell_type": "code",
   "execution_count": 6,
   "id": "0f53569c-a4eb-4b82-a7bd-37f68d262ea4",
   "metadata": {},
   "outputs": [],
   "source": [
    "p.zoom = (20, 30, 10000)"
   ]
  },
  {
   "cell_type": "code",
   "execution_count": 7,
   "id": "f976f36d-740f-4ee3-ac91-a0b1be803047",
   "metadata": {},
   "outputs": [],
   "source": [
    "p.zoom = (0, 0)"
   ]
  },
  {
   "cell_type": "code",
   "execution_count": 8,
   "id": "6ac46eba-8a7d-409f-a07f-69997eb2a79e",
   "metadata": {},
   "outputs": [],
   "source": [
    "p.zoom = (20, 30, 1_000_000)"
   ]
  },
  {
   "cell_type": "code",
   "execution_count": 9,
   "id": "85229fbd-910e-4a47-a066-a221b173bd61",
   "metadata": {},
   "outputs": [
    {
     "data": {
      "text/plain": [
       "(20.0, 30.0, 1000000.0)"
      ]
     },
     "execution_count": 9,
     "metadata": {},
     "output_type": "execute_result"
    }
   ],
   "source": [
    "p.zoom"
   ]
  },
  {
   "cell_type": "code",
   "execution_count": 10,
   "id": "40eac0e1-9bdf-40ed-828f-a1ee2dfe7355",
   "metadata": {},
   "outputs": [],
   "source": [
    "OSM = WMSLayer(url=\"https://c.tile.openstreetmap.org\")"
   ]
  },
  {
   "cell_type": "code",
   "execution_count": 11,
   "id": "16028844-345c-4a44-b296-64458644823e",
   "metadata": {},
   "outputs": [
    {
     "data": {
      "text/plain": [
       "(True, 1.0)"
      ]
     },
     "execution_count": 11,
     "metadata": {},
     "output_type": "execute_result"
    }
   ],
   "source": [
    "OSM.visible, OSM.opacity"
   ]
  },
  {
   "cell_type": "code",
   "execution_count": 12,
   "id": "e6cfef0e-8922-458b-962a-4dddc3066f88",
   "metadata": {},
   "outputs": [],
   "source": [
    "p.add_layer(OSM)"
   ]
  },
  {
   "cell_type": "code",
   "execution_count": null,
   "id": "de245fdc-a07a-443f-926b-0cd76466e949",
   "metadata": {},
   "outputs": [],
   "source": []
  },
  {
   "cell_type": "code",
   "execution_count": null,
   "id": "a93e505b-1d4b-4dc9-83f8-79ccb80249ca",
   "metadata": {},
   "outputs": [],
   "source": [
    "p = MizarMap(zoom=(20, 35, 1_000_000))"
   ]
  },
  {
   "cell_type": "code",
   "execution_count": null,
   "id": "28145334-b4d5-4a24-989a-6a563d9c0cbe",
   "metadata": {},
   "outputs": [],
   "source": [
    "p"
   ]
  },
  {
   "cell_type": "code",
   "execution_count": null,
   "id": "83a00a2a-7940-4e1d-a3dc-1f3c0427a4f7",
   "metadata": {},
   "outputs": [],
   "source": [
    "p = MizarMap(crs=CRS.Mars_2000)"
   ]
  },
  {
   "cell_type": "code",
   "execution_count": null,
   "id": "416661b2-8f5a-4094-8a01-70bf101bd079",
   "metadata": {},
   "outputs": [],
   "source": [
    "p"
   ]
  },
  {
   "cell_type": "code",
   "execution_count": null,
   "id": "c97e14a3-45d4-448d-a83e-80b5e6be484a",
   "metadata": {},
   "outputs": [],
   "source": [
    "p.crs"
   ]
  },
  {
   "cell_type": "code",
   "execution_count": null,
   "id": "93bf912a-6956-45e3-88ee-8f2823d8b029",
   "metadata": {},
   "outputs": [],
   "source": []
  },
  {
   "cell_type": "code",
   "execution_count": null,
   "id": "b85b97ae-3581-4478-b471-42a7d30fecfa",
   "metadata": {},
   "outputs": [],
   "source": [
    "s = MizarMap(crs=CRS.Equatorial)"
   ]
  },
  {
   "cell_type": "code",
   "execution_count": null,
   "id": "52ad778b-39fc-403b-adf6-f7c46f74223f",
   "metadata": {},
   "outputs": [],
   "source": [
    "s"
   ]
  },
  {
   "cell_type": "code",
   "execution_count": null,
   "id": "f8bb30c6-bc29-4f42-a51a-388f14157dd0",
   "metadata": {},
   "outputs": [],
   "source": []
  },
  {
   "cell_type": "code",
   "execution_count": null,
   "id": "97a82e4a-e700-4334-b1d0-04774185a2ef",
   "metadata": {},
   "outputs": [],
   "source": []
  },
  {
   "cell_type": "code",
   "execution_count": null,
   "id": "f76f0b1b-2d4b-4940-b7ad-8cc14921365d",
   "metadata": {},
   "outputs": [],
   "source": []
  },
  {
   "cell_type": "code",
   "execution_count": null,
   "id": "cd6604dc-aba8-42a2-becc-854ef4dffb27",
   "metadata": {},
   "outputs": [],
   "source": []
  },
  {
   "cell_type": "code",
   "execution_count": null,
   "id": "fbfe2393-e7c9-468f-aa39-750b98b9d668",
   "metadata": {},
   "outputs": [],
   "source": []
  },
  {
   "cell_type": "code",
   "execution_count": null,
   "id": "221d247e-8d10-46ba-ac98-7bd31569f5e3",
   "metadata": {},
   "outputs": [],
   "source": [
    "p.interact(width=(100, 500, 50), height=(100, 500, 50))"
   ]
  }
 ],
 "metadata": {
  "kernelspec": {
   "display_name": "Python 3",
   "language": "python",
   "name": "python3"
  },
  "language_info": {
   "codemirror_mode": {
    "name": "ipython",
    "version": 3
   },
   "file_extension": ".py",
   "mimetype": "text/x-python",
   "name": "python",
   "nbconvert_exporter": "python",
   "pygments_lexer": "ipython3",
   "version": "3.6.13"
  },
  "widgets": {
   "application/vnd.jupyter.widget-state+json": {
    "state": {
     "07135a8aab5640c2a2c6efc536970f9e": {
      "model_module": "jupyter-mizar",
      "model_module_version": "^0.1.0",
      "model_name": "MizarMapModel",
      "state": {
       "_model_module_version": "^0.1.0",
       "_view_module_version": "^0.1.0",
       "controls": [],
       "layers": [
        "IPY_MODEL_483aa849d5f446efae1195d43b34ddb6"
       ],
       "layout": "IPY_MODEL_d566c013954d4703bf374024eff507f4",
       "options": [],
       "window_url": "http://localhost:8888/lab/tree/Planet.ipynb",
       "zoom": [
        20,
        30,
        1000000
       ]
      }
     },
     "483aa849d5f446efae1195d43b34ddb6": {
      "model_module": "jupyter-mizar",
      "model_module_version": "^0.1.0",
      "model_name": "MizarWMSLayerModel",
      "state": {
       "_model_module_version": "^0.1.0",
       "_view_module_version": "^0.1.0",
       "options": [],
       "url": "https://c.tile.openstreetmap.org"
      }
     },
     "d566c013954d4703bf374024eff507f4": {
      "model_module": "@jupyter-widgets/base",
      "model_module_version": "1.2.0",
      "model_name": "LayoutModel",
      "state": {}
     }
    },
    "version_major": 2,
    "version_minor": 0
   }
  }
 },
 "nbformat": 4,
 "nbformat_minor": 5
}
