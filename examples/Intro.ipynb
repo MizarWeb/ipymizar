{
 "cells": [
  {
   "cell_type": "markdown",
   "id": "040b56f0-064a-49ea-bf7e-d1ac9ea2208d",
   "metadata": {},
   "source": [
    "# Intro"
   ]
  },
  {
   "cell_type": "code",
   "execution_count": null,
   "id": "c78e3fac-b603-4e5e-b96a-619e4de12dae",
   "metadata": {},
   "outputs": [],
   "source": [
    "import json\n",
    "\n",
    "from ipymizar import MizarMap, CRS, GeoJSONLayer, HipsLayer, WMSLayer\n",
    "\n",
    "# Create a 3D Earth view\n",
    "earth = MizarMap(crs=CRS.WGS84)\n",
    "\n",
    "# Add a WMS layer as backgground\n",
    "hysope_background = WMSLayer(\n",
    "    url=\"http://hysope-proto.cst.cnes.fr/map/wms\",\n",
    "    layers=\"hysope-background-global\",\n",
    ")\n",
    "\n",
    "earth.add_layer(hysope_background)\n",
    "\n",
    "# Display the Earth and the WMS layer\n",
    "earth\n",
    "# The above in executed in a Jupyter Notebook cell. It creates\n",
    "# a MizarMap instance. The next commands will update that same view."
   ]
  },
  {
   "cell_type": "code",
   "execution_count": null,
   "id": "1aa4d464-af7d-47da-92f8-112b6f3a1be9",
   "metadata": {},
   "outputs": [],
   "source": [
    "# Redefine the zoom.\n",
    "earth.zoom_to((2, 47), distance=1e7)"
   ]
  },
  {
   "cell_type": "code",
   "execution_count": null,
   "id": "be06f0a8-0320-499c-a23e-0ecff289ec29",
   "metadata": {},
   "outputs": [],
   "source": [
    "# Add a GeoJSON layer\n",
    "with open('data/countries.geo.json') as f:\n",
    "    data = json.load(f)\n",
    "\n",
    "geojson_layer = GeoJSONLayer(data=data)\n",
    "earth.add_layer(geojson_layer)"
   ]
  },
  {
   "cell_type": "code",
   "execution_count": null,
   "id": "7f8f33eb-3cfc-47b8-873b-f5f7007175a4",
   "metadata": {},
   "outputs": [],
   "source": [
    "# A 3D Sky view can also be created\n",
    "sky = MizarMap(crs=CRS.Equatorial)\n",
    "\n",
    "# To which a Hips layer can be add as background\n",
    "hips = HipsLayer(url=\"http://alasky.unistra.fr/DSS/DSSColor\")\n",
    "sky.add_layer(hips)\n",
    "\n",
    "# Display the Sky and the Hips layer\n",
    "sky"
   ]
  }
 ],
 "metadata": {
  "kernelspec": {
   "display_name": "Python 3",
   "language": "python",
   "name": "python3"
  },
  "language_info": {
   "codemirror_mode": {
    "name": "ipython",
    "version": 3
   },
   "file_extension": ".py",
   "mimetype": "text/x-python",
   "name": "python",
   "nbconvert_exporter": "python",
   "pygments_lexer": "ipython3",
   "version": "3.6.13"
  },
  "widgets": {
   "application/vnd.jupyter.widget-state+json": {
    "state": {},
    "version_major": 2,
    "version_minor": 0
   }
  }
 },
 "nbformat": 4,
 "nbformat_minor": 5
}
