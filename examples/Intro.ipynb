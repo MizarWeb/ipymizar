{
 "cells": [
  {
   "cell_type": "markdown",
   "metadata": {},
   "source": [
    "# Intro"
   ]
  },
  {
   "cell_type": "code",
   "execution_count": 1,
   "metadata": {},
   "outputs": [
    {
     "data": {
      "application/vnd.jupyter.widget-view+json": {
       "model_id": "ac667fe212f549aa83f465b627266948",
       "version_major": 2,
       "version_minor": 0
      },
      "text/plain": [
       "MizarMap(center=(0.0, 0.0), layers=(WMSLayer(layers='BlueMarble', url='https://regards-pp.cnes.fr/api/v1/hysop…"
      ]
     },
     "metadata": {},
     "output_type": "display_data"
    }
   ],
   "source": [
    "import json\n",
    "\n",
    "from ipymizar import MizarMap, CRS, GeoJSONLayer, HipsLayer, WMSLayer\n",
    "\n",
    "# Create a 3D Earth view\n",
    "earth = MizarMap(crs=CRS.WGS84)\n",
    "\n",
    "# Add a WMS layer as backgground\n",
    "blue_marble_background = WMSLayer(\n",
    "    url=\"https://regards-pp.cnes.fr/api/v1/hysope/?map=/etc/mapserver/bluemarble.map\",\n",
    "    layers=\"BlueMarble\",\n",
    ")\n",
    "\n",
    "earth.add_layer(blue_marble_background)\n",
    "\n",
    "# Display the Earth and the WMS layer\n",
    "earth\n",
    "# The above in executed in a Jupyter Notebook cell. It creates\n",
    "# a MizarMap instance. The next commands will update that same view."
   ]
  },
  {
   "cell_type": "code",
   "execution_count": 2,
   "metadata": {},
   "outputs": [],
   "source": [
    "# Redefine the zoom.\n",
    "earth.zoom_to((2, 47), distance=1e7)"
   ]
  },
  {
   "cell_type": "code",
   "execution_count": 3,
   "metadata": {},
   "outputs": [],
   "source": [
    "# Add a GeoJSON layer\n",
    "with open('data/countries.geo.json') as f:\n",
    "    data = json.load(f)\n",
    "\n",
    "geojson_layer = GeoJSONLayer(data=data)\n",
    "earth.add_layer(geojson_layer)"
   ]
  },
  {
   "cell_type": "code",
   "execution_count": 4,
   "metadata": {},
   "outputs": [
    {
     "data": {
      "application/vnd.jupyter.widget-view+json": {
       "model_id": "57747f1b8c7a442293f58ee94b2c8a5b",
       "version_major": 2,
       "version_minor": 0
      },
      "text/plain": [
       "MizarMap(center=(0.0, 0.0), crs='Equatorial', layers=(HipsLayer(url='http://alasky.unistra.fr/DSS/DSSColor'),)…"
      ]
     },
     "metadata": {},
     "output_type": "display_data"
    }
   ],
   "source": [
    "# A 3D Sky view can also be created\n",
    "sky = MizarMap(crs=CRS.Equatorial)\n",
    "\n",
    "# To which a Hips layer can be add as background\n",
    "hips = HipsLayer(url=\"http://alasky.unistra.fr/DSS/DSSColor\")\n",
    "sky.add_layer(hips)\n",
    "\n",
    "# Display the Sky and the Hips layer\n",
    "sky"
   ]
  },
  {
   "cell_type": "code",
   "execution_count": null,
   "metadata": {},
   "outputs": [],
   "source": []
  }
 ],
 "metadata": {
  "kernelspec": {
   "display_name": "Python 3",
   "language": "python",
   "name": "python3"
  },
  "language_info": {
   "codemirror_mode": {
    "name": "ipython",
    "version": 3
   },
   "file_extension": ".py",
   "mimetype": "text/x-python",
   "name": "python",
   "nbconvert_exporter": "python",
   "pygments_lexer": "ipython3",
   "version": "3.8.5"
  },
  "widgets": {
   "application/vnd.jupyter.widget-state+json": {
    "state": {},
    "version_major": 2,
    "version_minor": 0
   }
  }
 },
 "nbformat": 4,
 "nbformat_minor": 5
}
