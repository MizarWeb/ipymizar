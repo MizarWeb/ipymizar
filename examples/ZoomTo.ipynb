{
 "cells": [
  {
   "cell_type": "code",
   "execution_count": null,
   "id": "f5462dd0-62e0-4100-b9b7-dbecb5783f97",
   "metadata": {},
   "outputs": [],
   "source": [
    "# To avoid having to restart the kernel\n",
    "%load_ext autoreload\n",
    "%autoreload 2"
   ]
  },
  {
   "cell_type": "code",
   "execution_count": null,
   "id": "6641d263-acd2-4b61-93fb-41cb35c7dd46",
   "metadata": {},
   "outputs": [],
   "source": [
    "from ipymizar import MizarMap, CRS, OSMLayer, HipsLayer"
   ]
  },
  {
   "cell_type": "code",
   "execution_count": null,
   "id": "c78bd345-9732-46be-8914-f9929e79abe3",
   "metadata": {},
   "outputs": [],
   "source": [
    "earth = MizarMap(crs=CRS.WGS84)\n",
    "osm = OSMLayer()\n",
    "earth.add_layer(osm)\n",
    "earth"
   ]
  },
  {
   "cell_type": "code",
   "execution_count": null,
   "id": "7b8e2610-ee70-4f83-837a-3c716bab6c43",
   "metadata": {},
   "outputs": [],
   "source": [
    "earth.zoom_to((20, 30), distance=1_000_000)"
   ]
  },
  {
   "cell_type": "code",
   "execution_count": null,
   "id": "c532afa8-8c85-4b1c-97ea-175084d66bc4",
   "metadata": {},
   "outputs": [],
   "source": [
    "earth.zoom_to((0, 10))"
   ]
  },
  {
   "cell_type": "code",
   "execution_count": null,
   "id": "b17804da-e450-45c6-ba69-10894ef10dd2",
   "metadata": {},
   "outputs": [],
   "source": [
    "sky = MizarMap(crs=CRS.Equatorial)\n",
    "hips = OSMLayer(url=\"http://alasky.unistra.fr/DSS/DSSColor\")\n",
    "sky.add_layer(hips)\n",
    "sky"
   ]
  },
  {
   "cell_type": "code",
   "execution_count": null,
   "id": "b85b97ae-3581-4478-b471-42a7d30fecfa",
   "metadata": {},
   "outputs": [],
   "source": [
    "sky.zoom_to((20, 30))"
   ]
  },
  {
   "cell_type": "code",
   "execution_count": null,
   "id": "52ad778b-39fc-403b-adf6-f7c46f74223f",
   "metadata": {},
   "outputs": [],
   "source": [
    "sky.zoom_to((1, 10), fov=30)"
   ]
  }
 ],
 "metadata": {
  "kernelspec": {
   "display_name": "Python 3",
   "language": "python",
   "name": "python3"
  },
  "language_info": {
   "codemirror_mode": {
    "name": "ipython",
    "version": 3
   },
   "file_extension": ".py",
   "mimetype": "text/x-python",
   "name": "python",
   "nbconvert_exporter": "python",
   "pygments_lexer": "ipython3",
   "version": "3.6.13"
  },
  "widgets": {
   "application/vnd.jupyter.widget-state+json": {
    "state": {},
    "version_major": 2,
    "version_minor": 0
   }
  }
 },
 "nbformat": 4,
 "nbformat_minor": 5
}
