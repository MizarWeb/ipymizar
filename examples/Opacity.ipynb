{
 "cells": [
  {
   "cell_type": "code",
   "execution_count": null,
   "id": "68fd5733-e44f-4ca7-9450-5fee9e043976",
   "metadata": {},
   "outputs": [],
   "source": [
    "# To avoid having to restart the kernel\n",
    "%load_ext autoreload\n",
    "%autoreload 2"
   ]
  },
  {
   "cell_type": "code",
   "execution_count": null,
   "id": "f975276d-2941-4228-ae5f-9b5c7c8832c8",
   "metadata": {},
   "outputs": [],
   "source": [
    "from ipymizar import CRS, MizarMap, WMSLayer"
   ]
  },
  {
   "cell_type": "code",
   "execution_count": null,
   "id": "a673c8c1-a0bf-4eb1-86f8-6a4fe7251488",
   "metadata": {
    "tags": []
   },
   "outputs": [],
   "source": [
    "earth = MizarMap(crs=CRS.WGS84)\n",
    "wms = WMSLayer(url=\"http://hysope-proto.cst.cnes.fr/map/wms\", layers=\"hysope-background-global\",background=True)\n",
    "earth.add_layer(wms)\n",
    "earth"
   ]
  },
  {
   "cell_type": "code",
   "execution_count": null,
   "id": "f3b3a4f9-834c-4497-93ec-aeaf04d93f50",
   "metadata": {},
   "outputs": [],
   "source": [
    "occSol = WMSLayer(url=\"http://opf-proto.cst.cnes.fr/mapserver/\", layers=\"OccSolOSO\",background=False, transparent=True, format=\"image/png\")\n",
    "earth.add_layer(occSol)"
   ]
  },
  {
   "cell_type": "code",
   "execution_count": null,
   "id": "821dd7a5-2db2-4dd9-a6c4-5b7ab0cc2771",
   "metadata": {},
   "outputs": [],
   "source": [
    "glypho = WMSLayer(url=\"http://opf-proto.cst.cnes.fr/mapserver/\", layers=\"Glyphosate\",background=False, transparent=True, format=\"image/png\")\n",
    "earth.add_layer(glypho)"
   ]
  },
  {
   "cell_type": "code",
   "execution_count": null,
   "id": "67c4fe77-9618-466c-931c-11830ec59fc7",
   "metadata": {},
   "outputs": [],
   "source": [
    "earth.time = \"2017-01-01T00:00:00.000Z\""
   ]
  },
  {
   "cell_type": "code",
   "execution_count": null,
   "id": "5df0aa29-5bed-4fed-96e9-1a8742832df0",
   "metadata": {},
   "outputs": [],
   "source": [
    "glypho.opacity = 0.5"
   ]
  },
  {
   "cell_type": "code",
   "execution_count": null,
   "id": "0c65c433-6d96-4124-a693-85e8a0f753e0",
   "metadata": {},
   "outputs": [],
   "source": [
    "glypho.opacity = 0"
   ]
  },
  {
   "cell_type": "code",
   "execution_count": null,
   "id": "90153025-45bd-43a9-8c5c-c81d2a6b22bc",
   "metadata": {},
   "outputs": [],
   "source": [
    "glypho.opacity = 1"
   ]
  },
  {
   "cell_type": "code",
   "execution_count": null,
   "id": "9904f80b-3443-441a-b285-0f619ca0aed5",
   "metadata": {},
   "outputs": [],
   "source": [
    "glypho.visible = False"
   ]
  }
 ],
 "metadata": {
  "kernelspec": {
   "display_name": "Python 3",
   "language": "python",
   "name": "python3"
  },
  "language_info": {
   "codemirror_mode": {
    "name": "ipython",
    "version": 3
   },
   "file_extension": ".py",
   "mimetype": "text/x-python",
   "name": "python",
   "nbconvert_exporter": "python",
   "pygments_lexer": "ipython3",
   "version": "3.6.13"
  },
  "widgets": {
   "application/vnd.jupyter.widget-state+json": {
    "state": {
     "2886fce8d72b4913876b01f45dd0330c": {
      "model_module": "@jupyter-widgets/base",
      "model_module_version": "1.2.0",
      "model_name": "LayoutModel",
      "state": {}
     },
     "3fd1343ae5be4a3fadc84ef86d889aee": {
      "model_module": "jupyter-mizar",
      "model_module_version": "^0.1.0",
      "model_name": "MizarWMSLayerModel",
      "state": {
       "_model_module_version": "^0.1.0",
       "_view_module_version": "^0.1.0",
       "layers": "hysope-background-global",
       "opacity": 0.1,
       "url": "http://hysope-proto.cst.cnes.fr/map/wms"
      }
     },
     "cab8c15912c443e9acee9dbd3167ae38": {
      "model_module": "jupyter-mizar",
      "model_module_version": "^0.1.0",
      "model_name": "MizarMapModel",
      "state": {
       "_model_module_version": "^0.1.0",
       "_view_module_version": "^0.1.0",
       "layers": [
        "IPY_MODEL_3fd1343ae5be4a3fadc84ef86d889aee"
       ],
       "layout": "IPY_MODEL_2886fce8d72b4913876b01f45dd0330c",
       "options": [],
       "time": "",
       "window_url": "http://localhost:8890/lab/tree/Style2.ipynb",
       "zoom": [
        0,
        0
       ]
      }
     }
    },
    "version_major": 2,
    "version_minor": 0
   }
  }
 },
 "nbformat": 4,
 "nbformat_minor": 5
}
