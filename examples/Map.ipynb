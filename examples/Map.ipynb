{
 "cells": [
  {
   "cell_type": "code",
   "execution_count": 1,
   "id": "6641d263-acd2-4b61-93fb-41cb35c7dd46",
   "metadata": {},
   "outputs": [],
   "source": [
    "from ipymizar import Map\n",
    "\n",
    "center = (52.204793, 360.121558)"
   ]
  },
  {
   "cell_type": "code",
   "execution_count": 2,
   "id": "b077aced-39c7-4829-93bb-23008f420c90",
   "metadata": {},
   "outputs": [
    {
     "data": {
      "application/vnd.jupyter.widget-view+json": {
       "model_id": "f38a31c0040045a48ba1132ee3eb9284",
       "version_major": 2,
       "version_minor": 0
      },
      "text/plain": [
       "Map(center=[52.204793, 360.121558], controls=(ZoomControl(options=['position', 'zoom_in_text', 'zoom_in_title'…"
      ]
     },
     "metadata": {},
     "output_type": "display_data"
    }
   ],
   "source": [
    "m = Map(center=center, zoom=14)\n",
    "m"
   ]
  },
  {
   "cell_type": "code",
   "execution_count": 3,
   "id": "391a4d4c-3ea5-4b3b-b292-783b1735ab90",
   "metadata": {},
   "outputs": [
    {
     "data": {
      "application/vnd.jupyter.widget-view+json": {
       "model_id": "ac0110a822cc476aa5d3630b2c417491",
       "version_major": 2,
       "version_minor": 0
      },
      "text/plain": [
       "Box(children=(IntSlider(value=14, description='zoom', max=15, min=5),))"
      ]
     },
     "metadata": {},
     "output_type": "display_data"
    }
   ],
   "source": [
    "m.interact(zoom=(5, 15, 1))"
   ]
  },
  {
   "cell_type": "code",
   "execution_count": 8,
   "id": "7ed587c9-593c-4a28-a560-ab013c2113b8",
   "metadata": {},
   "outputs": [
    {
     "data": {
      "text/plain": [
       "'^0.1.0'"
      ]
     },
     "execution_count": 8,
     "metadata": {},
     "output_type": "execute_result"
    }
   ],
   "source": [
    "m._model_module_version"
   ]
  },
  {
   "cell_type": "code",
   "execution_count": null,
   "id": "8d13a154-7c89-4bd2-8e6b-8356d4ab385c",
   "metadata": {},
   "outputs": [],
   "source": []
  }
 ],
 "metadata": {
  "kernelspec": {
   "display_name": "Python 3",
   "language": "python",
   "name": "python3"
  },
  "language_info": {
   "codemirror_mode": {
    "name": "ipython",
    "version": 3
   },
   "file_extension": ".py",
   "mimetype": "text/x-python",
   "name": "python",
   "nbconvert_exporter": "python",
   "pygments_lexer": "ipython3",
   "version": "3.9.4"
  },
  "widgets": {
   "application/vnd.jupyter.widget-state+json": {
    "state": {
     "0645ecfd99574fa395c770803ff515c3": {
      "model_module": "jupyter-mizar",
      "model_module_version": "^0.1.0",
      "model_name": "MizarMapStyleModel",
      "state": {
       "_model_module_version": "^0.1.0"
      }
     },
     "13ddc3120efb410ba9311d8e84e92feb": {
      "model_module": "@jupyter-widgets/controls",
      "model_module_version": "1.5.0",
      "model_name": "IntSliderModel",
      "state": {
       "description": "zoom",
       "layout": "IPY_MODEL_baa654c0bbfe4a9aa459ac73cfcd0865",
       "max": 15,
       "min": 5,
       "style": "IPY_MODEL_1f4472349db7451d8093c837445d82ba",
       "value": 13
      }
     },
     "1f4472349db7451d8093c837445d82ba": {
      "model_module": "@jupyter-widgets/controls",
      "model_module_version": "1.5.0",
      "model_name": "SliderStyleModel",
      "state": {
       "description_width": ""
      }
     },
     "70b0a5deb43c468797be04c6cbef2afc": {
      "model_module": "jupyter-mizar",
      "model_module_version": "^0.1.0",
      "model_name": "MizarTileLayerModel",
      "state": {
       "_model_module_version": "^0.1.0",
       "_view_module_version": "^0.1.0",
       "base": true,
       "max_native_zoom": 18,
       "max_zoom": 19,
       "min_native_zoom": 0,
       "min_zoom": 1,
       "options": [
        "attribution",
        "detect_retina",
        "max_native_zoom",
        "max_zoom",
        "min_native_zoom",
        "min_zoom",
        "no_wrap",
        "tile_size",
        "tms"
       ]
      }
     },
     "8ac74da8e54644a3a8dbd6fc83b6574b": {
      "model_module": "jupyter-mizar",
      "model_module_version": "^0.1.0",
      "model_name": "MizarZoomControlModel",
      "state": {
       "_model_module_version": "^0.1.0",
       "_view_module_version": "^0.1.0",
       "options": [
        "position",
        "zoom_in_text",
        "zoom_in_title",
        "zoom_out_text",
        "zoom_out_title"
       ]
      }
     },
     "ac0110a822cc476aa5d3630b2c417491": {
      "model_module": "@jupyter-widgets/controls",
      "model_module_version": "1.5.0",
      "model_name": "BoxModel",
      "state": {
       "children": [
        "IPY_MODEL_13ddc3120efb410ba9311d8e84e92feb"
       ],
       "layout": "IPY_MODEL_e25c9d41795e42a0929be722b4b3d414"
      }
     },
     "ad522147c3b9427faa281552ea969cee": {
      "model_module": "@jupyter-widgets/base",
      "model_module_version": "1.2.0",
      "model_name": "LayoutModel",
      "state": {}
     },
     "baa654c0bbfe4a9aa459ac73cfcd0865": {
      "model_module": "@jupyter-widgets/base",
      "model_module_version": "1.2.0",
      "model_name": "LayoutModel",
      "state": {}
     },
     "ce5e41570f5245bda48d018bd2078571": {
      "model_module": "jupyter-mizar",
      "model_module_version": "^0.1.0",
      "model_name": "MizarMapStyleModel",
      "state": {
       "_model_module_version": "^0.1.0"
      }
     },
     "e25c9d41795e42a0929be722b4b3d414": {
      "model_module": "@jupyter-widgets/base",
      "model_module_version": "1.2.0",
      "model_name": "LayoutModel",
      "state": {}
     },
     "f38a31c0040045a48ba1132ee3eb9284": {
      "model_module": "jupyter-mizar",
      "model_module_version": "^0.1.0",
      "model_name": "MizarMapModel",
      "state": {
       "_dragging": true,
       "_model_module_version": "^0.1.0",
       "_view_module_version": "^0.1.0",
       "bottom": 690979,
       "center": [
        52.204793,
        360.121558
       ],
       "controls": [
        "IPY_MODEL_8ac74da8e54644a3a8dbd6fc83b6574b"
       ],
       "default_style": "IPY_MODEL_ce5e41570f5245bda48d018bd2078571",
       "dragging_style": "IPY_MODEL_f3e87b73e05f4b6680cb743d5e4d952d",
       "east": 360.2346611022949,
       "fullscreen": false,
       "interpolation": "bilinear",
       "layers": [
        "IPY_MODEL_70b0a5deb43c468797be04c6cbef2afc"
       ],
       "layout": "IPY_MODEL_ad522147c3b9427faa281552ea969cee",
       "left": 3145777,
       "modisdate": "yesterday",
       "north": 52.22580158765976,
       "options": [
        "bounce_at_zoom_limits",
        "box_zoom",
        "center",
        "double_click_zoom",
        "dragging",
        "fullscreen",
        "inertia",
        "inertia_deceleration",
        "inertia_max_speed",
        "interpolation",
        "keyboard",
        "keyboard_pan_offset",
        "keyboard_zoom_offset",
        "max_zoom",
        "min_zoom",
        "scroll_wheel_zoom",
        "tap",
        "tap_tolerance",
        "touch_zoom",
        "world_copy_jump",
        "zoom",
        "zoom_animation_threshold",
        "zoom_delta",
        "zoom_snap",
        "zoom_start"
       ],
       "right": 3147095,
       "south": 52.18372111309685,
       "style": "IPY_MODEL_ce5e41570f5245bda48d018bd2078571",
       "top": 690579,
       "west": 180,
       "window_url": "http://localhost:8888/lab/tree/Map.ipynb",
       "zoom": 13
      }
     },
     "f3e87b73e05f4b6680cb743d5e4d952d": {
      "model_module": "jupyter-mizar",
      "model_module_version": "^0.1.0",
      "model_name": "MizarMapStyleModel",
      "state": {
       "_model_module_version": "^0.1.0",
       "cursor": "move"
      }
     }
    },
    "version_major": 2,
    "version_minor": 0
   }
  }
 },
 "nbformat": 4,
 "nbformat_minor": 5
}
