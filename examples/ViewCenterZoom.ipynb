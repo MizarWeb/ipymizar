{
 "cells": [
  {
   "cell_type": "markdown",
   "id": "9d992ac4-7bef-4322-ae33-5936e48a1fbf",
   "metadata": {},
   "source": [
    "# Camera view: center and zoom"
   ]
  },
  {
   "cell_type": "code",
   "execution_count": null,
   "id": "6641d263-acd2-4b61-93fb-41cb35c7dd46",
   "metadata": {},
   "outputs": [],
   "source": [
    "from ipymizar import MizarMap, CRS, OSMLayer, HipsLayer"
   ]
  },
  {
   "cell_type": "markdown",
   "id": "e3fa7236-f99c-4a67-9d88-6fee89e6b4ce",
   "metadata": {},
   "source": [
    "The camera view can be defined when creating a `MizarMap` with:\n",
    "* `center`: a tuple of longitude/latitude\n",
    "* `zoom_opts`: a dictionary of options that depend on the context:\n",
    "    * planet:\n",
    "        * `distance` (int): distance in meter\n",
    "    * sky:\n",
    "        * `fov` (float): field of view of the camera in decimal degree"
   ]
  },
  {
   "cell_type": "markdown",
   "id": "807a83bb-25cd-457b-b5cb-ac8284807bd9",
   "metadata": {},
   "source": [
    "Once a map is instantiated, the camera view can be changed by either:\n",
    "* Modifying the values of `center` and `zoom_opts`\n",
    "* Using the `zoom_to` method which allows to change both the center and the options (e.g. the distance) at the same time."
   ]
  },
  {
   "cell_type": "markdown",
   "id": "febc91f3-03c9-4eaf-a4b4-8461dda22b2f",
   "metadata": {},
   "source": [
    "## Planet"
   ]
  },
  {
   "cell_type": "code",
   "execution_count": null,
   "id": "c78bd345-9732-46be-8914-f9929e79abe3",
   "metadata": {},
   "outputs": [],
   "source": [
    "earth = MizarMap(crs=CRS.WGS84, center=(2, 47), zoom_opts=dict(distance=2e6))\n",
    "osm = OSMLayer()\n",
    "earth.add_layer(osm)\n",
    "earth"
   ]
  },
  {
   "cell_type": "code",
   "execution_count": null,
   "id": "7b8e2610-ee70-4f83-837a-3c716bab6c43",
   "metadata": {
    "tags": []
   },
   "outputs": [],
   "source": [
    "earth.zoom_to((-74, 41), distance=1e6)"
   ]
  },
  {
   "cell_type": "code",
   "execution_count": null,
   "id": "9004c408-6bc8-4406-9a2e-2411299d6073",
   "metadata": {},
   "outputs": [],
   "source": [
    "earth.center = (-122, 38)"
   ]
  },
  {
   "cell_type": "code",
   "execution_count": null,
   "id": "c015fd30-2cf3-465e-b5fc-71cbe4879d97",
   "metadata": {},
   "outputs": [],
   "source": [
    "earth.zoom_opts = dict(distance=1e7)"
   ]
  },
  {
   "cell_type": "markdown",
   "id": "3e601fe0-8886-48f8-a597-c89c11d4f133",
   "metadata": {},
   "source": [
    "The `interact` method of `ipywidgets` can be used to create wigets to control the camera view."
   ]
  },
  {
   "cell_type": "code",
   "execution_count": null,
   "id": "6f0e324e-d969-4580-96b9-e56d5592ef10",
   "metadata": {},
   "outputs": [],
   "source": [
    "from ipywidgets import interact\n",
    "\n",
    "def earth_view_controller(lon=0.0, lat=0.0):\n",
    "    earth.zoom_to((lon, lat))\n",
    "\n",
    "interact(earth_view_controller, lon=(-180, 180, 4), lat=(-90, 90, 2))"
   ]
  },
  {
   "cell_type": "markdown",
   "id": "2eaa9ca8-8368-4b88-ad13-1c20a8bfd9f2",
   "metadata": {},
   "source": [
    "# Sky"
   ]
  },
  {
   "cell_type": "code",
   "execution_count": null,
   "id": "b17804da-e450-45c6-ba69-10894ef10dd2",
   "metadata": {},
   "outputs": [],
   "source": [
    "sky = MizarMap(crs=CRS.Equatorial, center=(10, 10), zoom_opts=dict(fov=20))\n",
    "hips = HipsLayer(url=\"http://alasky.unistra.fr/DSS/DSSColor\")\n",
    "sky.add_layer(hips)\n",
    "sky"
   ]
  },
  {
   "cell_type": "code",
   "execution_count": null,
   "id": "52ad778b-39fc-403b-adf6-f7c46f74223f",
   "metadata": {},
   "outputs": [],
   "source": [
    "sky.zoom_to((1, 10), fov=1)"
   ]
  },
  {
   "cell_type": "code",
   "execution_count": null,
   "id": "04da4b78-4b2d-429e-957d-0aaa74ba1159",
   "metadata": {},
   "outputs": [],
   "source": [
    "sky.center = (40, 40)"
   ]
  },
  {
   "cell_type": "code",
   "execution_count": null,
   "id": "218247d0-66c7-432d-b980-a9fcd277ae5b",
   "metadata": {},
   "outputs": [],
   "source": [
    "sky.zoom_opts = dict(fov=10)"
   ]
  },
  {
   "cell_type": "code",
   "execution_count": null,
   "id": "b9697905-add0-4832-8838-1f40d113f33c",
   "metadata": {},
   "outputs": [],
   "source": [
    "def sky_view_controller(lon=0.0, lat=0.0):\n",
    "    sky.zoom_to((lon, lat))\n",
    "\n",
    "interact(sky_view_controller, lon=(-180, 180, 4), lat=(-90, 90, 2))"
   ]
  },
  {
   "cell_type": "code",
   "execution_count": null,
   "id": "b441ad63-ef9d-4be6-9277-d2f1215365db",
   "metadata": {},
   "outputs": [],
   "source": []
  }
 ],
 "metadata": {
  "kernelspec": {
   "display_name": "Python 3",
   "language": "python",
   "name": "python3"
  },
  "language_info": {
   "codemirror_mode": {
    "name": "ipython",
    "version": 3
   },
   "file_extension": ".py",
   "mimetype": "text/x-python",
   "name": "python",
   "nbconvert_exporter": "python",
   "pygments_lexer": "ipython3",
   "version": "3.6.13"
  },
  "widgets": {
   "application/vnd.jupyter.widget-state+json": {
    "state": {
     "0122a43abda8482cb5057b6fe3911052": {
      "model_module": "@jupyter-widgets/controls",
      "model_module_version": "1.5.0",
      "model_name": "IntSliderModel",
      "state": {
       "description": "lat",
       "layout": "IPY_MODEL_5799c8e3bee949f2b942828788626ec5",
       "max": 90,
       "min": -90,
       "step": 2,
       "style": "IPY_MODEL_30ca332ff05e45978ac09606ae55e316",
       "value": 58
      }
     },
     "04ef2d6f49f242cc80d152c2d6a74c0c": {
      "model_module": "@jupyter-widgets/base",
      "model_module_version": "1.2.0",
      "model_name": "LayoutModel",
      "state": {}
     },
     "06aca0dee0d54630a7e079388acb2761": {
      "model_module": "@jupyter-widgets/controls",
      "model_module_version": "1.5.0",
      "model_name": "IntSliderModel",
      "state": {
       "description": "lat",
       "layout": "IPY_MODEL_2deafec2eddc4457b16dce58e1827897",
       "max": 90,
       "min": -90,
       "step": 2,
       "style": "IPY_MODEL_f1f20b3e25464bda8fbd01941bffce42"
      }
     },
     "0a22b084508e45bb97fb810255992f59": {
      "model_module": "@jupyter-widgets/controls",
      "model_module_version": "1.5.0",
      "model_name": "VBoxModel",
      "state": {
       "_dom_classes": [
        "widget-interact"
       ],
       "children": [
        "IPY_MODEL_f52ee73e4ba942ccbbaf8d7c64b7a8d9",
        "IPY_MODEL_72797e1c24e34309805f9deeb9758882",
        "IPY_MODEL_418d717667164ea78e8d886ed94f4dde",
        "IPY_MODEL_e815e20395fc4033a169fae1b2daf907"
       ],
       "layout": "IPY_MODEL_f7cd03911cad47e3912e1c7aba74bf31"
      }
     },
     "15c0a25411144d9a80f4e0ad4439ad1a": {
      "model_module": "@jupyter-widgets/base",
      "model_module_version": "1.2.0",
      "model_name": "LayoutModel",
      "state": {}
     },
     "16190e0e48bb4016afb76b740ca39365": {
      "model_module": "@jupyter-widgets/base",
      "model_module_version": "1.2.0",
      "model_name": "LayoutModel",
      "state": {}
     },
     "1832340da18448b39135dc284b89c823": {
      "model_module": "@jupyter-widgets/base",
      "model_module_version": "1.2.0",
      "model_name": "LayoutModel",
      "state": {}
     },
     "19c84f52e13040dd81041661d971b3ed": {
      "model_module": "@jupyter-widgets/base",
      "model_module_version": "1.2.0",
      "model_name": "LayoutModel",
      "state": {}
     },
     "1dd9f8c20d1346f2943de8bec21bd360": {
      "model_module": "@jupyter-widgets/base",
      "model_module_version": "1.2.0",
      "model_name": "LayoutModel",
      "state": {}
     },
     "1e7df801c0014b32889d597ce3d7dd4e": {
      "model_module": "@jupyter-widgets/base",
      "model_module_version": "1.2.0",
      "model_name": "LayoutModel",
      "state": {}
     },
     "2052e747de4b40cc8ac9eeccd981447b": {
      "model_module": "@jupyter-widgets/controls",
      "model_module_version": "1.5.0",
      "model_name": "FloatSliderModel",
      "state": {
       "description": "distance",
       "layout": "IPY_MODEL_79ee30467dc14bc2a6b8f455fded4db7",
       "max": 100000000,
       "min": 10000,
       "step": 500000,
       "style": "IPY_MODEL_67fc6638ab2c48c3871aa8b3b85e724f",
       "value": 41010000
      }
     },
     "214112e457774353a7f3916c9114a1e8": {
      "model_module": "@jupyter-widgets/base",
      "model_module_version": "1.2.0",
      "model_name": "LayoutModel",
      "state": {}
     },
     "2679a7e69b014b17b158b14f427464a2": {
      "model_module": "jupyter-mizar",
      "model_module_version": "^0.1.0",
      "model_name": "MizarOSMLayerModel",
      "state": {
       "_model_module_version": "^0.1.0",
       "_view_module_version": "^0.1.0",
       "url": "https://c.tile.openstreetmap.org"
      }
     },
     "2791c900aa1248ce957d277b25ece758": {
      "model_module": "@jupyter-widgets/base",
      "model_module_version": "1.2.0",
      "model_name": "LayoutModel",
      "state": {}
     },
     "28102846d6004f39b4df43904d57c8fa": {
      "model_module": "@jupyter-widgets/controls",
      "model_module_version": "1.5.0",
      "model_name": "SliderStyleModel",
      "state": {
       "description_width": ""
      }
     },
     "2dd26c7b42c14ef5be82a5eb87356a98": {
      "model_module": "@jupyter-widgets/controls",
      "model_module_version": "1.5.0",
      "model_name": "SliderStyleModel",
      "state": {
       "description_width": ""
      }
     },
     "2deafec2eddc4457b16dce58e1827897": {
      "model_module": "@jupyter-widgets/base",
      "model_module_version": "1.2.0",
      "model_name": "LayoutModel",
      "state": {}
     },
     "2df1c5b2406f4957a2a8504e32fd0f72": {
      "model_module": "@jupyter-widgets/output",
      "model_module_version": "1.0.0",
      "model_name": "OutputModel",
      "state": {
       "layout": "IPY_MODEL_42df5d3c7b234ccd984885395dfabcec",
       "outputs": [
        {
         "name": "stdout",
         "output_type": "stream",
         "text": "{'zoom_opts': {'distance': 41010000}}\n"
        }
       ]
      }
     },
     "30ca332ff05e45978ac09606ae55e316": {
      "model_module": "@jupyter-widgets/controls",
      "model_module_version": "1.5.0",
      "model_name": "SliderStyleModel",
      "state": {
       "description_width": ""
      }
     },
     "36f9de7176c448f58b2043c22aa0704d": {
      "model_module": "@jupyter-widgets/output",
      "model_module_version": "1.0.0",
      "model_name": "OutputModel",
      "state": {
       "layout": "IPY_MODEL_a9f1857fede8444598172b8711317286",
       "outputs": [
        {
         "name": "stdout",
         "output_type": "stream",
         "text": "{}\n"
        }
       ]
      }
     },
     "37bc1c9709234491b0e6e46151cc95cb": {
      "model_module": "@jupyter-widgets/base",
      "model_module_version": "1.2.0",
      "model_name": "LayoutModel",
      "state": {}
     },
     "39e982c995034b1885b88cb89ddba843": {
      "model_module": "@jupyter-widgets/base",
      "model_module_version": "1.2.0",
      "model_name": "LayoutModel",
      "state": {}
     },
     "3c39d69010e547b68ab340bffe565c08": {
      "model_module": "@jupyter-widgets/controls",
      "model_module_version": "1.5.0",
      "model_name": "SliderStyleModel",
      "state": {
       "description_width": ""
      }
     },
     "3d062b07c4b5469bb7654b189f57659d": {
      "model_module": "@jupyter-widgets/base",
      "model_module_version": "1.2.0",
      "model_name": "LayoutModel",
      "state": {}
     },
     "418d717667164ea78e8d886ed94f4dde": {
      "model_module": "@jupyter-widgets/controls",
      "model_module_version": "1.5.0",
      "model_name": "FloatSliderModel",
      "state": {
       "description": "distance",
       "layout": "IPY_MODEL_19c84f52e13040dd81041661d971b3ed",
       "max": 100000000,
       "min": 10000,
       "step": 500000,
       "style": "IPY_MODEL_77e5a470bd674ca6af994a2a9aaf31d5",
       "value": 77010000
      }
     },
     "42df5d3c7b234ccd984885395dfabcec": {
      "model_module": "@jupyter-widgets/base",
      "model_module_version": "1.2.0",
      "model_name": "LayoutModel",
      "state": {}
     },
     "44e0f3db30e04201819fa9e981a6b875": {
      "model_module": "@jupyter-widgets/controls",
      "model_module_version": "1.5.0",
      "model_name": "SliderStyleModel",
      "state": {
       "description_width": ""
      }
     },
     "44e7ca3e6f2b42398134bd399c94f0c3": {
      "model_module": "@jupyter-widgets/controls",
      "model_module_version": "1.5.0",
      "model_name": "SliderStyleModel",
      "state": {
       "description_width": ""
      }
     },
     "466cad5b16df4908a5ea12ab7a15dbbc": {
      "model_module": "@jupyter-widgets/controls",
      "model_module_version": "1.5.0",
      "model_name": "VBoxModel",
      "state": {
       "_dom_classes": [
        "widget-interact"
       ],
       "children": [
        "IPY_MODEL_f8b3cf4e71f1452aaf45551d24c62a5e",
        "IPY_MODEL_7a702f621c5741c18e2d05c70c536e84",
        "IPY_MODEL_2052e747de4b40cc8ac9eeccd981447b",
        "IPY_MODEL_2df1c5b2406f4957a2a8504e32fd0f72"
       ],
       "layout": "IPY_MODEL_e090021afaeb426e8b989d45fe47b32f"
      }
     },
     "4cc32a161dc54922adbbdc4ece91a6e2": {
      "model_module": "@jupyter-widgets/base",
      "model_module_version": "1.2.0",
      "model_name": "LayoutModel",
      "state": {}
     },
     "511e0b36c92b4444ac4cada5e86c1c51": {
      "model_module": "jupyter-mizar",
      "model_module_version": "^0.1.0",
      "model_name": "MizarMapModel",
      "state": {
       "_model_module_version": "^0.1.0",
       "_view_module_version": "^0.1.0",
       "center": [
        50,
        0
       ],
       "crs": "Equatorial",
       "layers": [
        "IPY_MODEL_53f406288e744d92b547ad4dde57c1d8"
       ],
       "layout": "IPY_MODEL_a1f90862c2e548c99bd078fdb06c6ac0",
       "time": "",
       "window_url": "http://localhost:8889/lab/tree/ViewCenterZoom.ipynb"
      }
     },
     "53f406288e744d92b547ad4dde57c1d8": {
      "model_module": "jupyter-mizar",
      "model_module_version": "^0.1.0",
      "model_name": "MizarHipsLayerModel",
      "state": {
       "_model_module_version": "^0.1.0",
       "_view_module_version": "^0.1.0",
       "url": "http://alasky.unistra.fr/DSS/DSSColor"
      }
     },
     "53f62993fe3a4fe5ae4dc882409c543b": {
      "model_module": "@jupyter-widgets/controls",
      "model_module_version": "1.5.0",
      "model_name": "FloatSliderModel",
      "state": {
       "description": "distance",
       "layout": "IPY_MODEL_39e982c995034b1885b88cb89ddba843",
       "max": 100000000,
       "min": 10000,
       "step": 500000,
       "style": "IPY_MODEL_59b95170ea5d40d7aaf9688610f11790",
       "value": 59010000
      }
     },
     "547b2bc3b0be4746b0345a51e100ba1f": {
      "model_module": "@jupyter-widgets/base",
      "model_module_version": "1.2.0",
      "model_name": "LayoutModel",
      "state": {}
     },
     "5645a5893f54413f8db6945664998027": {
      "model_module": "jupyter-mizar",
      "model_module_version": "^0.1.0",
      "model_name": "MizarHipsLayerModel",
      "state": {
       "_model_module_version": "^0.1.0",
       "_view_module_version": "^0.1.0",
       "url": "http://alasky.unistra.fr/DSS/DSSColor"
      }
     },
     "5799c8e3bee949f2b942828788626ec5": {
      "model_module": "@jupyter-widgets/base",
      "model_module_version": "1.2.0",
      "model_name": "LayoutModel",
      "state": {}
     },
     "59b95170ea5d40d7aaf9688610f11790": {
      "model_module": "@jupyter-widgets/controls",
      "model_module_version": "1.5.0",
      "model_name": "SliderStyleModel",
      "state": {
       "description_width": ""
      }
     },
     "5c1cf2d6bb1541298badf1f3f245dac3": {
      "model_module": "@jupyter-widgets/controls",
      "model_module_version": "1.5.0",
      "model_name": "SliderStyleModel",
      "state": {
       "description_width": ""
      }
     },
     "5d38940cf4574db9abbe05f7592ecb6c": {
      "model_module": "@jupyter-widgets/controls",
      "model_module_version": "1.5.0",
      "model_name": "VBoxModel",
      "state": {
       "_dom_classes": [
        "widget-interact"
       ],
       "children": [
        "IPY_MODEL_c493260db73143a7b5ac66e4800379ad",
        "IPY_MODEL_d3ace15bf41641078d0c999ce125ffad",
        "IPY_MODEL_36f9de7176c448f58b2043c22aa0704d"
       ],
       "layout": "IPY_MODEL_04ef2d6f49f242cc80d152c2d6a74c0c"
      }
     },
     "67b4c1de39924a6dbe75f2b64f4e7819": {
      "model_module": "@jupyter-widgets/output",
      "model_module_version": "1.0.0",
      "model_name": "OutputModel",
      "state": {
       "layout": "IPY_MODEL_15c0a25411144d9a80f4e0ad4439ad1a",
       "outputs": [
        {
         "name": "stdout",
         "output_type": "stream",
         "text": "{'zoom_opts': {'distance': 59010000.0}}\n"
        }
       ]
      }
     },
     "67fc6638ab2c48c3871aa8b3b85e724f": {
      "model_module": "@jupyter-widgets/controls",
      "model_module_version": "1.5.0",
      "model_name": "SliderStyleModel",
      "state": {
       "description_width": ""
      }
     },
     "6d2f8399d0f94035b6871ea018d022fa": {
      "model_module": "jupyter-mizar",
      "model_module_version": "^0.1.0",
      "model_name": "MizarMapModel",
      "state": {
       "_model_module_version": "^0.1.0",
       "_view_module_version": "^0.1.0",
       "center": [
        56,
        0
       ],
       "crs": "Equatorial",
       "layers": [
        "IPY_MODEL_5645a5893f54413f8db6945664998027"
       ],
       "layout": "IPY_MODEL_d00d924488dd48e0a26cb89a9c422dbb",
       "time": "",
       "window_url": "http://localhost:8889/lab/tree/ViewCenterZoom.ipynb"
      }
     },
     "70eb07ae73b84314835843568c68e060": {
      "model_module": "@jupyter-widgets/base",
      "model_module_version": "1.2.0",
      "model_name": "LayoutModel",
      "state": {}
     },
     "72797e1c24e34309805f9deeb9758882": {
      "model_module": "@jupyter-widgets/controls",
      "model_module_version": "1.5.0",
      "model_name": "IntSliderModel",
      "state": {
       "description": "lat",
       "layout": "IPY_MODEL_b12058dd3f5444d293dc1335a1201d48",
       "max": 90,
       "min": -90,
       "step": 2,
       "style": "IPY_MODEL_a85f741c01b04b15aa02a4511c040c40"
      }
     },
     "776b8540ec2040d18f2d7c223f212bbc": {
      "model_module": "@jupyter-widgets/base",
      "model_module_version": "1.2.0",
      "model_name": "LayoutModel",
      "state": {}
     },
     "77e5a470bd674ca6af994a2a9aaf31d5": {
      "model_module": "@jupyter-widgets/controls",
      "model_module_version": "1.5.0",
      "model_name": "SliderStyleModel",
      "state": {
       "description_width": ""
      }
     },
     "79ee30467dc14bc2a6b8f455fded4db7": {
      "model_module": "@jupyter-widgets/base",
      "model_module_version": "1.2.0",
      "model_name": "LayoutModel",
      "state": {}
     },
     "7a702f621c5741c18e2d05c70c536e84": {
      "model_module": "@jupyter-widgets/controls",
      "model_module_version": "1.5.0",
      "model_name": "IntSliderModel",
      "state": {
       "description": "lat",
       "layout": "IPY_MODEL_547b2bc3b0be4746b0345a51e100ba1f",
       "max": 90,
       "min": -90,
       "step": 2,
       "style": "IPY_MODEL_3c39d69010e547b68ab340bffe565c08"
      }
     },
     "7dbfa1ca0f3244799dee909095eae8d7": {
      "model_module": "@jupyter-widgets/base",
      "model_module_version": "1.2.0",
      "model_name": "LayoutModel",
      "state": {}
     },
     "881f6f865cb44e98b06a9a8943348b0a": {
      "model_module": "@jupyter-widgets/output",
      "model_module_version": "1.0.0",
      "model_name": "OutputModel",
      "state": {
       "layout": "IPY_MODEL_4cc32a161dc54922adbbdc4ece91a6e2",
       "outputs": [
        {
         "name": "stdout",
         "output_type": "stream",
         "text": "{}\n"
        }
       ]
      }
     },
     "92cae9040fb84eac97b8137dbbe79bca": {
      "model_module": "@jupyter-widgets/base",
      "model_module_version": "1.2.0",
      "model_name": "LayoutModel",
      "state": {}
     },
     "950fb7648ca443778c4f8f48d68bd6bc": {
      "model_module": "@jupyter-widgets/controls",
      "model_module_version": "1.5.0",
      "model_name": "SliderStyleModel",
      "state": {
       "description_width": ""
      }
     },
     "9ccd961aaa1c4d8bb1813995e6a129b9": {
      "model_module": "@jupyter-widgets/controls",
      "model_module_version": "1.5.0",
      "model_name": "SliderStyleModel",
      "state": {
       "description_width": ""
      }
     },
     "a1f90862c2e548c99bd078fdb06c6ac0": {
      "model_module": "@jupyter-widgets/base",
      "model_module_version": "1.2.0",
      "model_name": "LayoutModel",
      "state": {}
     },
     "a85f741c01b04b15aa02a4511c040c40": {
      "model_module": "@jupyter-widgets/controls",
      "model_module_version": "1.5.0",
      "model_name": "SliderStyleModel",
      "state": {
       "description_width": ""
      }
     },
     "a9f1857fede8444598172b8711317286": {
      "model_module": "@jupyter-widgets/base",
      "model_module_version": "1.2.0",
      "model_name": "LayoutModel",
      "state": {}
     },
     "ae765095253947a2b6cc90616122e09b": {
      "model_module": "@jupyter-widgets/controls",
      "model_module_version": "1.5.0",
      "model_name": "VBoxModel",
      "state": {
       "_dom_classes": [
        "widget-interact"
       ],
       "children": [
        "IPY_MODEL_f3e8b75ce1ea48d78e57b29e7c073f66",
        "IPY_MODEL_0122a43abda8482cb5057b6fe3911052",
        "IPY_MODEL_53f62993fe3a4fe5ae4dc882409c543b",
        "IPY_MODEL_67b4c1de39924a6dbe75f2b64f4e7819"
       ],
       "layout": "IPY_MODEL_1832340da18448b39135dc284b89c823"
      }
     },
     "b075e096461744559a66bcf045a66e12": {
      "model_module": "@jupyter-widgets/controls",
      "model_module_version": "1.5.0",
      "model_name": "IntSliderModel",
      "state": {
       "description": "lat",
       "layout": "IPY_MODEL_16190e0e48bb4016afb76b740ca39365",
       "max": 90,
       "min": -90,
       "step": 2,
       "style": "IPY_MODEL_950fb7648ca443778c4f8f48d68bd6bc"
      }
     },
     "b12058dd3f5444d293dc1335a1201d48": {
      "model_module": "@jupyter-widgets/base",
      "model_module_version": "1.2.0",
      "model_name": "LayoutModel",
      "state": {}
     },
     "b9dc2b43526e463c873e63d70f9850a4": {
      "model_module": "@jupyter-widgets/controls",
      "model_module_version": "1.5.0",
      "model_name": "VBoxModel",
      "state": {
       "_dom_classes": [
        "widget-interact"
       ],
       "children": [
        "IPY_MODEL_e0d5d9a896074610bc8cae88b31bc614",
        "IPY_MODEL_06aca0dee0d54630a7e079388acb2761",
        "IPY_MODEL_e0fc0b12c4f84d70867576b36fb84213"
       ],
       "layout": "IPY_MODEL_92cae9040fb84eac97b8137dbbe79bca"
      }
     },
     "bc0a3871b8504ca29da43e7ab722dcbd": {
      "model_module": "jupyter-mizar",
      "model_module_version": "^0.1.0",
      "model_name": "MizarMapModel",
      "state": {
       "_model_module_version": "^0.1.0",
       "_view_module_version": "^0.1.0",
       "layers": [
        "IPY_MODEL_f6e75bf491e04e1d89ad60d54171c212"
       ],
       "layout": "IPY_MODEL_c3cc431fc40b481188ffa50882b6cf4b",
       "time": "",
       "window_url": "http://localhost:8889/lab/tree/ViewCenterZoom.ipynb",
       "zoom_opts": {
        "zoom_opts": {
         "distance": 77010000
        }
       }
      }
     },
     "c3cc431fc40b481188ffa50882b6cf4b": {
      "model_module": "@jupyter-widgets/base",
      "model_module_version": "1.2.0",
      "model_name": "LayoutModel",
      "state": {}
     },
     "c493260db73143a7b5ac66e4800379ad": {
      "model_module": "@jupyter-widgets/controls",
      "model_module_version": "1.5.0",
      "model_name": "IntSliderModel",
      "state": {
       "description": "lon",
       "layout": "IPY_MODEL_7dbfa1ca0f3244799dee909095eae8d7",
       "max": 180,
       "min": -180,
       "step": 4,
       "style": "IPY_MODEL_5c1cf2d6bb1541298badf1f3f245dac3"
      }
     },
     "c928d5f15fac4fc9a4ffacde5c294073": {
      "model_module": "@jupyter-widgets/base",
      "model_module_version": "1.2.0",
      "model_name": "LayoutModel",
      "state": {}
     },
     "cf47005672154a94861b489313ded049": {
      "model_module": "jupyter-mizar",
      "model_module_version": "^0.1.0",
      "model_name": "MizarMapModel",
      "state": {
       "_model_module_version": "^0.1.0",
       "_view_module_version": "^0.1.0",
       "layers": [
        "IPY_MODEL_2679a7e69b014b17b158b14f427464a2"
       ],
       "layout": "IPY_MODEL_3d062b07c4b5469bb7654b189f57659d",
       "time": "",
       "window_url": "http://localhost:8889/lab/tree/ViewCenterZoom.ipynb"
      }
     },
     "d00d924488dd48e0a26cb89a9c422dbb": {
      "model_module": "@jupyter-widgets/base",
      "model_module_version": "1.2.0",
      "model_name": "LayoutModel",
      "state": {}
     },
     "d2bd98e9679d4d5aa4d84e93bc796ce5": {
      "model_module": "@jupyter-widgets/controls",
      "model_module_version": "1.5.0",
      "model_name": "IntSliderModel",
      "state": {
       "description": "lon",
       "layout": "IPY_MODEL_70eb07ae73b84314835843568c68e060",
       "max": 180,
       "min": -180,
       "step": 4,
       "style": "IPY_MODEL_db05624970f544359065231c80c9ddc0",
       "value": 56
      }
     },
     "d3ace15bf41641078d0c999ce125ffad": {
      "model_module": "@jupyter-widgets/controls",
      "model_module_version": "1.5.0",
      "model_name": "IntSliderModel",
      "state": {
       "description": "lat",
       "layout": "IPY_MODEL_776b8540ec2040d18f2d7c223f212bbc",
       "max": 90,
       "min": -90,
       "step": 2,
       "style": "IPY_MODEL_9ccd961aaa1c4d8bb1813995e6a129b9"
      }
     },
     "d6f55e98b5a0491a89ab367d0904556c": {
      "model_module": "@jupyter-widgets/base",
      "model_module_version": "1.2.0",
      "model_name": "LayoutModel",
      "state": {}
     },
     "db05624970f544359065231c80c9ddc0": {
      "model_module": "@jupyter-widgets/controls",
      "model_module_version": "1.5.0",
      "model_name": "SliderStyleModel",
      "state": {
       "description_width": ""
      }
     },
     "e090021afaeb426e8b989d45fe47b32f": {
      "model_module": "@jupyter-widgets/base",
      "model_module_version": "1.2.0",
      "model_name": "LayoutModel",
      "state": {}
     },
     "e0d5d9a896074610bc8cae88b31bc614": {
      "model_module": "@jupyter-widgets/controls",
      "model_module_version": "1.5.0",
      "model_name": "IntSliderModel",
      "state": {
       "description": "lon",
       "layout": "IPY_MODEL_c928d5f15fac4fc9a4ffacde5c294073",
       "max": 180,
       "min": -180,
       "step": 4,
       "style": "IPY_MODEL_44e0f3db30e04201819fa9e981a6b875",
       "value": 50
      }
     },
     "e0fc0b12c4f84d70867576b36fb84213": {
      "model_module": "@jupyter-widgets/output",
      "model_module_version": "1.0.0",
      "model_name": "OutputModel",
      "state": {
       "layout": "IPY_MODEL_214112e457774353a7f3916c9114a1e8",
       "outputs": [
        {
         "name": "stdout",
         "output_type": "stream",
         "text": "{}\n"
        }
       ]
      }
     },
     "e815e20395fc4033a169fae1b2daf907": {
      "model_module": "@jupyter-widgets/output",
      "model_module_version": "1.0.0",
      "model_name": "OutputModel",
      "state": {
       "layout": "IPY_MODEL_2791c900aa1248ce957d277b25ece758",
       "outputs": [
        {
         "name": "stdout",
         "output_type": "stream",
         "text": "{'zoom_opts': {'distance': 77010000}}\n"
        }
       ]
      }
     },
     "f1f20b3e25464bda8fbd01941bffce42": {
      "model_module": "@jupyter-widgets/controls",
      "model_module_version": "1.5.0",
      "model_name": "SliderStyleModel",
      "state": {
       "description_width": ""
      }
     },
     "f3e8b75ce1ea48d78e57b29e7c073f66": {
      "model_module": "@jupyter-widgets/controls",
      "model_module_version": "1.5.0",
      "model_name": "IntSliderModel",
      "state": {
       "description": "lon",
       "layout": "IPY_MODEL_37bc1c9709234491b0e6e46151cc95cb",
       "max": 180,
       "min": -180,
       "step": 4,
       "style": "IPY_MODEL_28102846d6004f39b4df43904d57c8fa",
       "value": 68
      }
     },
     "f52ee73e4ba942ccbbaf8d7c64b7a8d9": {
      "model_module": "@jupyter-widgets/controls",
      "model_module_version": "1.5.0",
      "model_name": "IntSliderModel",
      "state": {
       "description": "lon",
       "layout": "IPY_MODEL_d6f55e98b5a0491a89ab367d0904556c",
       "max": 180,
       "min": -180,
       "step": 4,
       "style": "IPY_MODEL_2dd26c7b42c14ef5be82a5eb87356a98"
      }
     },
     "f6e75bf491e04e1d89ad60d54171c212": {
      "model_module": "jupyter-mizar",
      "model_module_version": "^0.1.0",
      "model_name": "MizarOSMLayerModel",
      "state": {
       "_model_module_version": "^0.1.0",
       "_view_module_version": "^0.1.0",
       "url": "https://c.tile.openstreetmap.org"
      }
     },
     "f7cd03911cad47e3912e1c7aba74bf31": {
      "model_module": "@jupyter-widgets/base",
      "model_module_version": "1.2.0",
      "model_name": "LayoutModel",
      "state": {}
     },
     "f8b3cf4e71f1452aaf45551d24c62a5e": {
      "model_module": "@jupyter-widgets/controls",
      "model_module_version": "1.5.0",
      "model_name": "IntSliderModel",
      "state": {
       "description": "lon",
       "layout": "IPY_MODEL_1dd9f8c20d1346f2943de8bec21bd360",
       "max": 180,
       "min": -180,
       "step": 4,
       "style": "IPY_MODEL_44e7ca3e6f2b42398134bd399c94f0c3"
      }
     },
     "fd1d9b3b0dff44bcaeeea2fe12d0f229": {
      "model_module": "@jupyter-widgets/controls",
      "model_module_version": "1.5.0",
      "model_name": "VBoxModel",
      "state": {
       "_dom_classes": [
        "widget-interact"
       ],
       "children": [
        "IPY_MODEL_d2bd98e9679d4d5aa4d84e93bc796ce5",
        "IPY_MODEL_b075e096461744559a66bcf045a66e12",
        "IPY_MODEL_881f6f865cb44e98b06a9a8943348b0a"
       ],
       "layout": "IPY_MODEL_1e7df801c0014b32889d597ce3d7dd4e"
      }
     }
    },
    "version_major": 2,
    "version_minor": 0
   }
  }
 },
 "nbformat": 4,
 "nbformat_minor": 5
}
