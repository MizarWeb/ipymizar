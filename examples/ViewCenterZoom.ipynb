{
 "cells": [
  {
   "cell_type": "markdown",
   "id": "9d992ac4-7bef-4322-ae33-5936e48a1fbf",
   "metadata": {},
   "source": [
    "# Camera view: center and zoom"
   ]
  },
  {
   "cell_type": "code",
   "execution_count": null,
   "id": "6641d263-acd2-4b61-93fb-41cb35c7dd46",
   "metadata": {},
   "outputs": [],
   "source": [
    "from ipymizar import MizarMap, CRS, OSMLayer, HipsLayer"
   ]
  },
  {
   "cell_type": "markdown",
   "id": "e3fa7236-f99c-4a67-9d88-6fee89e6b4ce",
   "metadata": {},
   "source": [
    "The camera view can be defined when creating a `MizarMap` with:\n",
    "* `center`: a tuple of longitude/latitude\n",
    "* `zoom_opts`: a dictionary of options that depend on the context:\n",
    "    * planet:\n",
    "        * `distance` (int): distance in meter\n",
    "    * sky:\n",
    "        * `fov` (float): field of view of the camera in decimal degree"
   ]
  },
  {
   "cell_type": "markdown",
   "id": "807a83bb-25cd-457b-b5cb-ac8284807bd9",
   "metadata": {},
   "source": [
    "Once a map is instantiated, the camera view can be changed by either:\n",
    "* Modifying the values of `center` and `zoom_opts`\n",
    "* Using the `zoom_to` method which allows to change both the center and the options (e.g. the distance) at the same time."
   ]
  },
  {
   "cell_type": "markdown",
   "id": "febc91f3-03c9-4eaf-a4b4-8461dda22b2f",
   "metadata": {},
   "source": [
    "## Planet"
   ]
  },
  {
   "cell_type": "code",
   "execution_count": null,
   "id": "c78bd345-9732-46be-8914-f9929e79abe3",
   "metadata": {},
   "outputs": [],
   "source": [
    "earth = MizarMap(crs=CRS.WGS84, center=(2, 47), zoom_opts=dict(distance=2e6))\n",
    "osm = OSMLayer()\n",
    "earth.add_layer(osm)\n",
    "earth"
   ]
  },
  {
   "cell_type": "code",
   "execution_count": null,
   "id": "7b8e2610-ee70-4f83-837a-3c716bab6c43",
   "metadata": {
    "tags": []
   },
   "outputs": [],
   "source": [
    "earth.zoom_to((-74, 41), distance=1e6)"
   ]
  },
  {
   "cell_type": "code",
   "execution_count": null,
   "id": "9004c408-6bc8-4406-9a2e-2411299d6073",
   "metadata": {},
   "outputs": [],
   "source": [
    "earth.center = (-122, 38)"
   ]
  },
  {
   "cell_type": "code",
   "execution_count": null,
   "id": "c015fd30-2cf3-465e-b5fc-71cbe4879d97",
   "metadata": {},
   "outputs": [],
   "source": [
    "earth.zoom_opts = dict(distance=1e7)"
   ]
  },
  {
   "cell_type": "markdown",
   "id": "3e601fe0-8886-48f8-a597-c89c11d4f133",
   "metadata": {},
   "source": [
    "The `interact` method of `ipywidgets` can be used to create wigets to control the camera view."
   ]
  },
  {
   "cell_type": "code",
   "execution_count": null,
   "id": "6f0e324e-d969-4580-96b9-e56d5592ef10",
   "metadata": {},
   "outputs": [],
   "source": [
    "from ipywidgets import interact\n",
    "\n",
    "def earth_view_controller(lon=0.0, lat=0.0, distance=1e6):\n",
    "    earth.zoom_to((lon, lat), distance=distance)\n",
    "\n",
    "interact(\n",
    "    earth_view_controller,\n",
    "    lon=(-180, 180, 4), lat=(-90, 90, 2), distance=(1e5, 1e7, 5e4)\n",
    ")"
   ]
  },
  {
   "cell_type": "markdown",
   "id": "2eaa9ca8-8368-4b88-ad13-1c20a8bfd9f2",
   "metadata": {},
   "source": [
    "# Sky"
   ]
  },
  {
   "cell_type": "code",
   "execution_count": 18,
   "id": "b17804da-e450-45c6-ba69-10894ef10dd2",
   "metadata": {},
   "outputs": [
    {
     "data": {
      "application/vnd.jupyter.widget-view+json": {
       "model_id": "5da7054630164ddbbed4c0222ce068e9",
       "version_major": 2,
       "version_minor": 0
      },
      "text/plain": [
       "MizarMap(center=(10.0, 10.0), crs='Equatorial', layers=(HipsLayer(url='http://alasky.unistra.fr/DSS/DSSColor')…"
      ]
     },
     "metadata": {},
     "output_type": "display_data"
    }
   ],
   "source": [
    "sky = MizarMap(crs=CRS.Equatorial, center=(10, 10), zoom_opts=dict(fov=20))\n",
    "hips = HipsLayer(url=\"http://alasky.unistra.fr/DSS/DSSColor\")\n",
    "sky.add_layer(hips)\n",
    "sky"
   ]
  },
  {
   "cell_type": "code",
   "execution_count": 19,
   "id": "52ad778b-39fc-403b-adf6-f7c46f74223f",
   "metadata": {},
   "outputs": [],
   "source": [
    "sky.zoom_to((1, 10), fov=1)"
   ]
  },
  {
   "cell_type": "code",
   "execution_count": null,
   "id": "04da4b78-4b2d-429e-957d-0aaa74ba1159",
   "metadata": {},
   "outputs": [],
   "source": [
    "sky.center = (40, 40)"
   ]
  },
  {
   "cell_type": "code",
   "execution_count": null,
   "id": "218247d0-66c7-432d-b980-a9fcd277ae5b",
   "metadata": {},
   "outputs": [],
   "source": [
    "sky.zoom_opts = dict(fov=10)"
   ]
  },
  {
   "cell_type": "code",
   "execution_count": null,
   "id": "b9697905-add0-4832-8838-1f40d113f33c",
   "metadata": {},
   "outputs": [],
   "source": [
    "def sky_view_controller(lon=0.0, lat=0.0, fov=1):\n",
    "    sky.zoom_to((lon, lat), fov=fov)\n",
    "\n",
    "interact(\n",
    "    sky_view_controller,\n",
    "    lon=(-180, 180, 4), lat=(-90, 90, 2), fov=(1, 100)\n",
    ")"
   ]
  }
 ],
 "metadata": {
  "kernelspec": {
   "display_name": "Python 3",
   "language": "python",
   "name": "python3"
  },
  "language_info": {
   "codemirror_mode": {
    "name": "ipython",
    "version": 3
   },
   "file_extension": ".py",
   "mimetype": "text/x-python",
   "name": "python",
   "nbconvert_exporter": "python",
   "pygments_lexer": "ipython3",
   "version": "3.6.13"
  },
  "widgets": {
   "application/vnd.jupyter.widget-state+json": {
    "state": {
     "25b98bdf57b24c5a9a497ce3cfd4daa5": {
      "model_module": "jupyter-mizar",
      "model_module_version": "^0.1.0",
      "model_name": "MizarMapModel",
      "state": {
       "_model_module_version": "^0.1.0",
       "_view_module_version": "^0.1.0",
       "center": [
        -100,
        46
       ],
       "layers": [
        "IPY_MODEL_2836e43267a34e30aa9ada0919113870"
       ],
       "layout": "IPY_MODEL_ae4b2cf5683a4bf19161958995f2472a",
       "time": "",
       "window_url": "http://localhost:8889/lab/tree/ViewCenterZoom.ipynb",
       "zoom_opts": {
        "distance": 6250000
       }
      }
     },
     "2836e43267a34e30aa9ada0919113870": {
      "model_module": "jupyter-mizar",
      "model_module_version": "^0.1.0",
      "model_name": "MizarOSMLayerModel",
      "state": {
       "_model_module_version": "^0.1.0",
       "_view_module_version": "^0.1.0",
       "url": "https://c.tile.openstreetmap.org"
      }
     },
     "37522cda98a64b23bb4cdef9e0ef6b32": {
      "model_module": "@jupyter-widgets/controls",
      "model_module_version": "1.5.0",
      "model_name": "SliderStyleModel",
      "state": {
       "description_width": ""
      }
     },
     "432836ead03541df8083c67e568fc579": {
      "model_module": "@jupyter-widgets/controls",
      "model_module_version": "1.5.0",
      "model_name": "IntSliderModel",
      "state": {
       "description": "lat",
       "layout": "IPY_MODEL_6f5cafc313e545658aa9311e5b644328",
       "max": 90,
       "min": -90,
       "step": 2,
       "style": "IPY_MODEL_37522cda98a64b23bb4cdef9e0ef6b32",
       "value": 46
      }
     },
     "46a9c4d4ade94e07940a915cb462ef47": {
      "model_module": "@jupyter-widgets/controls",
      "model_module_version": "1.5.0",
      "model_name": "IntSliderModel",
      "state": {
       "description": "lon",
       "layout": "IPY_MODEL_8f5386acc5a44b59b6791b14eeb2908d",
       "max": 180,
       "min": -180,
       "step": 4,
       "style": "IPY_MODEL_c101acfc7c9847aa8cd4719cdaec497a",
       "value": -100
      }
     },
     "4ddc83f8aaa3409ca797399d7156953a": {
      "model_module": "@jupyter-widgets/base",
      "model_module_version": "1.2.0",
      "model_name": "LayoutModel",
      "state": {}
     },
     "564e4e2ee6944b6fadbff20528c5f908": {
      "model_module": "@jupyter-widgets/output",
      "model_module_version": "1.0.0",
      "model_name": "OutputModel",
      "state": {
       "layout": "IPY_MODEL_bbab2210c35145edbce53ab3d793ca86"
      }
     },
     "5b151e34081942858d6cc56df1a73b87": {
      "model_module": "jupyter-mizar",
      "model_module_version": "^0.1.0",
      "model_name": "MizarHipsLayerModel",
      "state": {
       "_model_module_version": "^0.1.0",
       "_view_module_version": "^0.1.0",
       "url": "http://alasky.unistra.fr/DSS/DSSColor"
      }
     },
     "5e642e407c014d56ad9e9680f0871267": {
      "model_module": "@jupyter-widgets/controls",
      "model_module_version": "1.5.0",
      "model_name": "IntSliderModel",
      "state": {
       "description": "fov",
       "layout": "IPY_MODEL_c670a18a983344a2a69ec77916942f68",
       "min": 1,
       "style": "IPY_MODEL_cb5d8b16d5f24a4a88d8a3d9cc636152",
       "value": 42
      }
     },
     "628cb391b7e847e1bc10a7fb6b45899e": {
      "model_module": "@jupyter-widgets/controls",
      "model_module_version": "1.5.0",
      "model_name": "VBoxModel",
      "state": {
       "_dom_classes": [
        "widget-interact"
       ],
       "children": [
        "IPY_MODEL_46a9c4d4ade94e07940a915cb462ef47",
        "IPY_MODEL_432836ead03541df8083c67e568fc579",
        "IPY_MODEL_8699cdbecfb64c6988c89689d1859e1d",
        "IPY_MODEL_564e4e2ee6944b6fadbff20528c5f908"
       ],
       "layout": "IPY_MODEL_4ddc83f8aaa3409ca797399d7156953a"
      }
     },
     "68b57cd5379645838ad5117bae05d2f2": {
      "model_module": "@jupyter-widgets/base",
      "model_module_version": "1.2.0",
      "model_name": "LayoutModel",
      "state": {}
     },
     "6f5cafc313e545658aa9311e5b644328": {
      "model_module": "@jupyter-widgets/base",
      "model_module_version": "1.2.0",
      "model_name": "LayoutModel",
      "state": {}
     },
     "72a5e58be9f44562b23544086d598f12": {
      "model_module": "jupyter-mizar",
      "model_module_version": "^0.1.0",
      "model_name": "MizarMapModel",
      "state": {
       "_model_module_version": "^0.1.0",
       "_view_module_version": "^0.1.0",
       "center": [
        -68,
        0
       ],
       "crs": "Equatorial",
       "layers": [
        "IPY_MODEL_5b151e34081942858d6cc56df1a73b87"
       ],
       "layout": "IPY_MODEL_9e54fdb19a6047d699cb10a6ffc9a0a5",
       "time": "",
       "window_url": "http://localhost:8889/lab/tree/ViewCenterZoom.ipynb",
       "zoom_opts": {
        "fov": 42
       }
      }
     },
     "73c4853fd06c409ca5f949f3b0dab9e6": {
      "model_module": "@jupyter-widgets/controls",
      "model_module_version": "1.5.0",
      "model_name": "VBoxModel",
      "state": {
       "_dom_classes": [
        "widget-interact"
       ],
       "children": [
        "IPY_MODEL_dba3e8abaf4d4c889a8b806108a6160c",
        "IPY_MODEL_ac6c3ee005674f078393e7ad169f1091",
        "IPY_MODEL_5e642e407c014d56ad9e9680f0871267",
        "IPY_MODEL_dac35fd0b2544dd4826740cc0985a3f6"
       ],
       "layout": "IPY_MODEL_d3cfe1d0da95403e83133bd0f7b41f40"
      }
     },
     "7698550c795240b9b23fa54a7b5528b7": {
      "model_module": "@jupyter-widgets/base",
      "model_module_version": "1.2.0",
      "model_name": "LayoutModel",
      "state": {}
     },
     "7eec04eccb7f44669840fbbe2fa68ded": {
      "model_module": "@jupyter-widgets/base",
      "model_module_version": "1.2.0",
      "model_name": "LayoutModel",
      "state": {}
     },
     "8699cdbecfb64c6988c89689d1859e1d": {
      "model_module": "@jupyter-widgets/controls",
      "model_module_version": "1.5.0",
      "model_name": "FloatSliderModel",
      "state": {
       "description": "distance",
       "layout": "IPY_MODEL_7eec04eccb7f44669840fbbe2fa68ded",
       "max": 10000000,
       "min": 100000,
       "step": 50000,
       "style": "IPY_MODEL_b2da5b3dfe3140f797efdcd7ab019722",
       "value": 6250000
      }
     },
     "8f5386acc5a44b59b6791b14eeb2908d": {
      "model_module": "@jupyter-widgets/base",
      "model_module_version": "1.2.0",
      "model_name": "LayoutModel",
      "state": {}
     },
     "9bd1068c3bc9471695b7d20e4568ed9c": {
      "model_module": "@jupyter-widgets/base",
      "model_module_version": "1.2.0",
      "model_name": "LayoutModel",
      "state": {}
     },
     "9e54fdb19a6047d699cb10a6ffc9a0a5": {
      "model_module": "@jupyter-widgets/base",
      "model_module_version": "1.2.0",
      "model_name": "LayoutModel",
      "state": {}
     },
     "a5da1e1be0d94b28baad40681334df08": {
      "model_module": "@jupyter-widgets/controls",
      "model_module_version": "1.5.0",
      "model_name": "SliderStyleModel",
      "state": {
       "description_width": ""
      }
     },
     "ac6c3ee005674f078393e7ad169f1091": {
      "model_module": "@jupyter-widgets/controls",
      "model_module_version": "1.5.0",
      "model_name": "IntSliderModel",
      "state": {
       "description": "lat",
       "layout": "IPY_MODEL_7698550c795240b9b23fa54a7b5528b7",
       "max": 90,
       "min": -90,
       "step": 2,
       "style": "IPY_MODEL_a5da1e1be0d94b28baad40681334df08"
      }
     },
     "ae4b2cf5683a4bf19161958995f2472a": {
      "model_module": "@jupyter-widgets/base",
      "model_module_version": "1.2.0",
      "model_name": "LayoutModel",
      "state": {}
     },
     "b2da5b3dfe3140f797efdcd7ab019722": {
      "model_module": "@jupyter-widgets/controls",
      "model_module_version": "1.5.0",
      "model_name": "SliderStyleModel",
      "state": {
       "description_width": ""
      }
     },
     "bbab2210c35145edbce53ab3d793ca86": {
      "model_module": "@jupyter-widgets/base",
      "model_module_version": "1.2.0",
      "model_name": "LayoutModel",
      "state": {}
     },
     "c101acfc7c9847aa8cd4719cdaec497a": {
      "model_module": "@jupyter-widgets/controls",
      "model_module_version": "1.5.0",
      "model_name": "SliderStyleModel",
      "state": {
       "description_width": ""
      }
     },
     "c3f631536e124c1194ec5dc2de2da785": {
      "model_module": "@jupyter-widgets/controls",
      "model_module_version": "1.5.0",
      "model_name": "SliderStyleModel",
      "state": {
       "description_width": ""
      }
     },
     "c670a18a983344a2a69ec77916942f68": {
      "model_module": "@jupyter-widgets/base",
      "model_module_version": "1.2.0",
      "model_name": "LayoutModel",
      "state": {}
     },
     "cb5d8b16d5f24a4a88d8a3d9cc636152": {
      "model_module": "@jupyter-widgets/controls",
      "model_module_version": "1.5.0",
      "model_name": "SliderStyleModel",
      "state": {
       "description_width": ""
      }
     },
     "d3cfe1d0da95403e83133bd0f7b41f40": {
      "model_module": "@jupyter-widgets/base",
      "model_module_version": "1.2.0",
      "model_name": "LayoutModel",
      "state": {}
     },
     "dac35fd0b2544dd4826740cc0985a3f6": {
      "model_module": "@jupyter-widgets/output",
      "model_module_version": "1.0.0",
      "model_name": "OutputModel",
      "state": {
       "layout": "IPY_MODEL_9bd1068c3bc9471695b7d20e4568ed9c"
      }
     },
     "dba3e8abaf4d4c889a8b806108a6160c": {
      "model_module": "@jupyter-widgets/controls",
      "model_module_version": "1.5.0",
      "model_name": "IntSliderModel",
      "state": {
       "description": "lon",
       "layout": "IPY_MODEL_68b57cd5379645838ad5117bae05d2f2",
       "max": 180,
       "min": -180,
       "step": 4,
       "style": "IPY_MODEL_c3f631536e124c1194ec5dc2de2da785",
       "value": -68
      }
     }
    },
    "version_major": 2,
    "version_minor": 0
   }
  }
 },
 "nbformat": 4,
 "nbformat_minor": 5
}
