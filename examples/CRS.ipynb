{
 "cells": [
  {
   "cell_type": "markdown",
   "id": "9d992ac4-7bef-4322-ae33-5936e48a1fbf",
   "metadata": {},
   "source": [
    "# CRS"
   ]
  },
  {
   "cell_type": "markdown",
   "id": "892ddf5e-b164-4630-991b-6783dceca46f",
   "metadata": {},
   "source": [
    "Choosing a Coordinate Reference System (CRS) when creating a `MizarMap` defines the context of the map: a planet or a sky view.\n",
    "\n",
    "The `CRS` class holds all the different CRS available. Its `list` method returns a list of the CRS attributes available (possibly in a given context)."
   ]
  },
  {
   "cell_type": "code",
   "execution_count": null,
   "id": "6641d263-acd2-4b61-93fb-41cb35c7dd46",
   "metadata": {},
   "outputs": [],
   "source": [
    "from ipymizar import MizarMap, CRS, OSMLayer, WMSLayer, HipsLayer"
   ]
  },
  {
   "cell_type": "code",
   "execution_count": null,
   "id": "dee685e6-c155-49d5-b591-738bef832c04",
   "metadata": {},
   "outputs": [],
   "source": [
    "CRS.list()"
   ]
  },
  {
   "cell_type": "code",
   "execution_count": null,
   "id": "6ad296ed-d4b4-43f1-95e4-f0a32c648fcc",
   "metadata": {},
   "outputs": [],
   "source": [
    "CRS.list(\"Sky\")"
   ]
  },
  {
   "cell_type": "code",
   "execution_count": null,
   "id": "8c2690f0-dc71-4d44-a0f3-b12f616c789f",
   "metadata": {},
   "outputs": [],
   "source": [
    "CRS.list(\"Planet\")"
   ]
  },
  {
   "cell_type": "markdown",
   "id": "d9f41afe-5b25-48ee-aeb6-6e8f7191ee98",
   "metadata": {},
   "source": [
    "A `MizarMap` is created by defining its `crs` parameter (`CRS.WGS84`, planet Earth by default). Its `context` attribute (read-only) is set to either `'Planet'` or `'Sky'` given the prodived CRS."
   ]
  },
  {
   "cell_type": "markdown",
   "id": "febc91f3-03c9-4eaf-a4b4-8461dda22b2f",
   "metadata": {},
   "source": [
    "## Planet"
   ]
  },
  {
   "cell_type": "code",
   "execution_count": null,
   "id": "c78bd345-9732-46be-8914-f9929e79abe3",
   "metadata": {},
   "outputs": [],
   "source": [
    "earth = MizarMap(crs=CRS.WGS84)\n",
    "osm = OSMLayer()\n",
    "earth.add_layer(osm)\n",
    "earth"
   ]
  },
  {
   "cell_type": "code",
   "execution_count": null,
   "id": "c015fd30-2cf3-465e-b5fc-71cbe4879d97",
   "metadata": {},
   "outputs": [],
   "source": [
    "mars = MizarMap(crs=CRS.Mars_2000)\n",
    "wms = WMSLayer(url=\"http://idoc-wmsmars.ias.u-psud.fr/cgi-bin/mapserv?map=/home/cnes/mars/mars.map\", layers=\"viking\")\n",
    "mars.add_layer(wms)\n",
    "mars"
   ]
  },
  {
   "cell_type": "code",
   "execution_count": null,
   "id": "11f24e96-a4be-4b64-b68a-6643d8a00677",
   "metadata": {},
   "outputs": [],
   "source": [
    "earth.context, mars.context"
   ]
  },
  {
   "cell_type": "markdown",
   "id": "2eaa9ca8-8368-4b88-ad13-1c20a8bfd9f2",
   "metadata": {},
   "source": [
    "# Sky"
   ]
  },
  {
   "cell_type": "code",
   "execution_count": null,
   "id": "b17804da-e450-45c6-ba69-10894ef10dd2",
   "metadata": {},
   "outputs": [],
   "source": [
    "sky = MizarMap(crs=CRS.Equatorial)\n",
    "hips = HipsLayer(url=\"http://alasky.unistra.fr/DSS/DSSColor\")\n",
    "sky.add_layer(hips)\n",
    "sky"
   ]
  },
  {
   "cell_type": "code",
   "execution_count": null,
   "id": "b441ad63-ef9d-4be6-9277-d2f1215365db",
   "metadata": {},
   "outputs": [],
   "source": [
    "sky.context"
   ]
  }
 ],
 "metadata": {
  "kernelspec": {
   "display_name": "Python 3",
   "language": "python",
   "name": "python3"
  },
  "language_info": {
   "codemirror_mode": {
    "name": "ipython",
    "version": 3
   },
   "file_extension": ".py",
   "mimetype": "text/x-python",
   "name": "python",
   "nbconvert_exporter": "python",
   "pygments_lexer": "ipython3",
   "version": "3.6.13"
  },
  "widgets": {
   "application/vnd.jupyter.widget-state+json": {
    "state": {
     "10a230df84db4fe4b2489cd6e257be34": {
      "model_module": "jupyter-mizar",
      "model_module_version": "^0.1.0",
      "model_name": "MizarWMSLayerModel",
      "state": {
       "_model_module_version": "^0.1.0",
       "_view_module_version": "^0.1.0",
       "layers": "viking",
       "url": "http://idoc-wmsmars.ias.u-psud.fr/cgi-bin/mapserv?map=/home/cnes/mars/mars.map"
      }
     },
     "1281e1773ce04a5c98331d47e46311e7": {
      "model_module": "@jupyter-widgets/base",
      "model_module_version": "1.2.0",
      "model_name": "LayoutModel",
      "state": {}
     },
     "4ca784d45f1442bf8a0873158360283d": {
      "model_module": "@jupyter-widgets/base",
      "model_module_version": "1.2.0",
      "model_name": "LayoutModel",
      "state": {}
     },
     "4f1dde256d3345309c1559a9f3790eb3": {
      "model_module": "jupyter-mizar",
      "model_module_version": "^0.1.0",
      "model_name": "MizarOSMLayerModel",
      "state": {
       "_model_module_version": "^0.1.0",
       "_view_module_version": "^0.1.0",
       "url": "https://c.tile.openstreetmap.org"
      }
     },
     "7e9a21efd72c44a0bbb42f213514c8d0": {
      "model_module": "jupyter-mizar",
      "model_module_version": "^0.1.0",
      "model_name": "MizarHipsLayerModel",
      "state": {
       "_model_module_version": "^0.1.0",
       "_view_module_version": "^0.1.0",
       "url": "http://alasky.unistra.fr/DSS/DSSColor"
      }
     },
     "9de5f04be0f74686894ef25ee49dc5c1": {
      "model_module": "@jupyter-widgets/base",
      "model_module_version": "1.2.0",
      "model_name": "LayoutModel",
      "state": {}
     },
     "a6613558392a48109c57f67a26a140b1": {
      "model_module": "jupyter-mizar",
      "model_module_version": "^0.1.0",
      "model_name": "MizarMapModel",
      "state": {
       "_model_module_version": "^0.1.0",
       "_view_module_version": "^0.1.0",
       "layers": [
        "IPY_MODEL_4f1dde256d3345309c1559a9f3790eb3"
       ],
       "layout": "IPY_MODEL_9de5f04be0f74686894ef25ee49dc5c1",
       "time": "",
       "window_url": "http://localhost:8889/lab/tree/CRS.ipynb"
      }
     },
     "ab91c04622e04adfb0f4937313c5c63d": {
      "model_module": "jupyter-mizar",
      "model_module_version": "^0.1.0",
      "model_name": "MizarMapModel",
      "state": {
       "_model_module_version": "^0.1.0",
       "_view_module_version": "^0.1.0",
       "crs": "IAU2000:49901",
       "layers": [
        "IPY_MODEL_10a230df84db4fe4b2489cd6e257be34"
       ],
       "layout": "IPY_MODEL_1281e1773ce04a5c98331d47e46311e7",
       "time": "",
       "window_url": "http://localhost:8889/lab/tree/CRS.ipynb"
      }
     },
     "b17c859a253e402282b6c67ecb1c1303": {
      "model_module": "jupyter-mizar",
      "model_module_version": "^0.1.0",
      "model_name": "MizarMapModel",
      "state": {
       "_model_module_version": "^0.1.0",
       "_view_module_version": "^0.1.0",
       "crs": "Equatorial",
       "layers": [
        "IPY_MODEL_7e9a21efd72c44a0bbb42f213514c8d0"
       ],
       "layout": "IPY_MODEL_4ca784d45f1442bf8a0873158360283d",
       "time": "",
       "window_url": "http://localhost:8889/lab/tree/CRS.ipynb"
      }
     }
    },
    "version_major": 2,
    "version_minor": 0
   }
  }
 },
 "nbformat": 4,
 "nbformat_minor": 5
}
