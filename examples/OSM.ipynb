{
 "cells": [
  {
   "cell_type": "markdown",
   "id": "3af5c953-c1c7-4ea9-b76e-553a204807fe",
   "metadata": {},
   "source": [
    "# OpenStreetMap layer"
   ]
  },
  {
   "cell_type": "code",
   "execution_count": null,
   "id": "f975276d-2941-4228-ae5f-9b5c7c8832c8",
   "metadata": {},
   "outputs": [],
   "source": [
    "from ipymizar import CRS, MizarMap, OSMLayer"
   ]
  },
  {
   "cell_type": "code",
   "execution_count": null,
   "id": "a673c8c1-a0bf-4eb1-86f8-6a4fe7251488",
   "metadata": {},
   "outputs": [],
   "source": [
    "earth = MizarMap(crs=CRS.WGS84)\n",
    "osm = OSMLayer()\n",
    "earth.add_layer(osm)\n",
    "earth"
   ]
  }
 ],
 "metadata": {
  "kernelspec": {
   "display_name": "Python 3",
   "language": "python",
   "name": "python3"
  },
  "language_info": {
   "codemirror_mode": {
    "name": "ipython",
    "version": 3
   },
   "file_extension": ".py",
   "mimetype": "text/x-python",
   "name": "python",
   "nbconvert_exporter": "python",
   "pygments_lexer": "ipython3",
   "version": "3.6.13"
  },
  "widgets": {
   "application/vnd.jupyter.widget-state+json": {
    "state": {
     "4447f867ed2f41c4b6eae9952d811d5b": {
      "model_module": "@jupyter-widgets/base",
      "model_module_version": "1.2.0",
      "model_name": "LayoutModel",
      "state": {}
     },
     "9cace597ab044e0dadfbc47e75ed4506": {
      "model_module": "jupyter-mizar",
      "model_module_version": "^0.1.0",
      "model_name": "MizarOSMLayerModel",
      "state": {
       "_model_module_version": "^0.1.0",
       "_view_module_version": "^0.1.0",
       "url": "https://c.tile.openstreetmap.org"
      }
     },
     "efc5af879a6f47fea4ea1712f4fed788": {
      "model_module": "jupyter-mizar",
      "model_module_version": "^0.1.0",
      "model_name": "MizarMapModel",
      "state": {
       "_model_module_version": "^0.1.0",
       "_view_module_version": "^0.1.0",
       "layers": [
        "IPY_MODEL_9cace597ab044e0dadfbc47e75ed4506"
       ],
       "layout": "IPY_MODEL_4447f867ed2f41c4b6eae9952d811d5b",
       "options": [],
       "time": "",
       "window_url": "http://localhost:8888/lab/tree/OSM.ipynb",
       "zoom": [
        0,
        0
       ]
      }
     }
    },
    "version_major": 2,
    "version_minor": 0
   }
  }
 },
 "nbformat": 4,
 "nbformat_minor": 5
}
