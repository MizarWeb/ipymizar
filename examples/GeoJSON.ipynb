{
 "cells": [
  {
   "cell_type": "code",
   "execution_count": null,
   "id": "cd5a9626-4cbf-42e5-a2ed-6802a7814788",
   "metadata": {},
   "outputs": [],
   "source": [
    "# To avoid having to restart the kernel\n",
    "%load_ext autoreload\n",
    "%autoreload 2"
   ]
  },
  {
   "cell_type": "code",
   "execution_count": null,
   "id": "b422c6b9-5669-42f1-9601-e9fdf1f04371",
   "metadata": {},
   "outputs": [],
   "source": [
    "import json\n",
    "from ipymizar import CRS, MizarMap, GeoJSONLayer, OSMLayer"
   ]
  },
  {
   "cell_type": "code",
   "execution_count": null,
   "id": "c0db9d18-820c-4aec-a078-518c3eb29ec9",
   "metadata": {},
   "outputs": [],
   "source": [
    "earth = MizarMap(crs=CRS.WGS84)\n",
    "osm = OSMLayer()\n",
    "earth.add_layer(osm)\n",
    "earth"
   ]
  },
  {
   "cell_type": "code",
   "execution_count": null,
   "id": "1b49f69a-5f37-4232-b85a-16b0bdbfedf2",
   "metadata": {},
   "outputs": [],
   "source": [
    "geojson = GeoJSONLayer(\n",
    "    url=\"https://raw.githubusercontent.com/MizarWeb/Mizar/master/examples/data/multiPolygon.json\",\n",
    "    style={\n",
    "        \"strokeColor\": \"#fffe29\",\n",
    "        \"strokeWidth\": 5,\n",
    "    },\n",
    ")"
   ]
  },
  {
   "cell_type": "code",
   "execution_count": null,
   "id": "d7774280-4d2f-468e-9046-771984d4808a",
   "metadata": {},
   "outputs": [],
   "source": [
    "geojson.url"
   ]
  },
  {
   "cell_type": "code",
   "execution_count": null,
   "id": "3555dc9b-5165-4115-a347-0e3879b5bd46",
   "metadata": {},
   "outputs": [],
   "source": [
    "earth.zoom_to((-96.6796875, 37.43997405227057))"
   ]
  },
  {
   "cell_type": "code",
   "execution_count": null,
   "id": "064d70a2-4f26-40af-815a-e3bab8e4f440",
   "metadata": {},
   "outputs": [],
   "source": [
    "earth.add_layer(geojson)"
   ]
  },
  {
   "cell_type": "code",
   "execution_count": null,
   "id": "c7536bb5-4124-4a72-be36-0ce773798802",
   "metadata": {},
   "outputs": [],
   "source": [
    "with open(\"data/countries.geo.json\") as f:\n",
    "    data = json.load(f)"
   ]
  },
  {
   "cell_type": "code",
   "execution_count": null,
   "id": "f06ff403-4aec-4b6e-9a99-3e7073232357",
   "metadata": {},
   "outputs": [],
   "source": [
    "geojson2 = GeoJSONLayer(\n",
    "    data=data,\n",
    "    style={\n",
    "        \"strokeColor\": \"#1976d2\",\n",
    "        \"strokeWidth\": 50,\n",
    "    },\n",
    ")\n",
    "earth.add_layer(geojson2)"
   ]
  },
  {
   "cell_type": "code",
   "execution_count": null,
   "id": "9f8a47d3-b89a-4687-8f72-2fa999734a80",
   "metadata": {},
   "outputs": [],
   "source": [
    "feature_france = [feature for feature in data[\"features\"] if feature[\"id\"] == \"FRA\"]"
   ]
  },
  {
   "cell_type": "code",
   "execution_count": null,
   "id": "86227174-c4e6-454b-b866-e926b8fd8239",
   "metadata": {},
   "outputs": [],
   "source": [
    "data[\"features\"] = feature_france"
   ]
  },
  {
   "cell_type": "code",
   "execution_count": null,
   "id": "17e94662-28fa-44c3-8caa-0f200bda162c",
   "metadata": {},
   "outputs": [],
   "source": [
    "geojson2.data = data"
   ]
  },
  {
   "cell_type": "code",
   "execution_count": null,
   "id": "99a1f7d2-627b-49e8-9064-672887ff7641",
   "metadata": {},
   "outputs": [],
   "source": []
  }
 ],
 "metadata": {
  "kernelspec": {
   "display_name": "Python 3",
   "language": "python",
   "name": "python3"
  },
  "language_info": {
   "codemirror_mode": {
    "name": "ipython",
    "version": 3
   },
   "file_extension": ".py",
   "mimetype": "text/x-python",
   "name": "python",
   "nbconvert_exporter": "python",
   "pygments_lexer": "ipython3",
   "version": "3.6.13"
  },
  "widgets": {
   "application/vnd.jupyter.widget-state+json": {
    "state": {},
    "version_major": 2,
    "version_minor": 0
   }
  }
 },
 "nbformat": 4,
 "nbformat_minor": 5
}
