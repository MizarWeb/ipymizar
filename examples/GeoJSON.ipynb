{
 "cells": [
  {
   "cell_type": "markdown",
   "id": "e7c7781e-dada-40f4-a2f2-1636f65caf7b",
   "metadata": {},
   "source": [
    "# GeoJSON"
   ]
  },
  {
   "cell_type": "code",
   "execution_count": null,
   "id": "b422c6b9-5669-42f1-9601-e9fdf1f04371",
   "metadata": {},
   "outputs": [],
   "source": [
    "import json\n",
    "from ipymizar import CRS, MizarMap, GeoJSONLayer, OSMLayer, HipsLayer"
   ]
  },
  {
   "cell_type": "markdown",
   "id": "3130f457-7e31-4149-a304-67660419f61b",
   "metadata": {},
   "source": [
    "## Planet\n",
    "\n",
    "Let's first add a simple OSM background map on the Earth."
   ]
  },
  {
   "cell_type": "code",
   "execution_count": null,
   "id": "c0db9d18-820c-4aec-a078-518c3eb29ec9",
   "metadata": {},
   "outputs": [],
   "source": [
    "earth = MizarMap(crs=CRS.WGS84)\n",
    "osm = OSMLayer()\n",
    "earth.add_layer(osm)\n",
    "earth"
   ]
  },
  {
   "cell_type": "markdown",
   "id": "fcf33bd7-ada9-48b7-8e20-3354ace998d7",
   "metadata": {},
   "source": [
    "A GeoJSON layer can be created by providing a URL to a GeoJSON file. The optional `style` parameter allows to define how the layer is going to be displayed, here in black. "
   ]
  },
  {
   "cell_type": "code",
   "execution_count": null,
   "id": "1b49f69a-5f37-4232-b85a-16b0bdbfedf2",
   "metadata": {},
   "outputs": [],
   "source": [
    "usa_states = GeoJSONLayer(\n",
    "    url=\"https://raw.githubusercontent.com/MizarWeb/Mizar/master/examples/data/multiPolygon.json\",\n",
    "    style={\n",
    "        \"strokeColor\": \"#fffe29\",  # Black\n",
    "        \"strokeWidth\": 5,\n",
    "    },\n",
    ")"
   ]
  },
  {
   "cell_type": "code",
   "execution_count": null,
   "id": "3555dc9b-5165-4115-a347-0e3879b5bd46",
   "metadata": {},
   "outputs": [],
   "source": [
    "earth.zoom_to((-96.6, 37.4))"
   ]
  },
  {
   "cell_type": "code",
   "execution_count": null,
   "id": "064d70a2-4f26-40af-815a-e3bab8e4f440",
   "metadata": {},
   "outputs": [],
   "source": [
    "earth.add_layer(usa_states)"
   ]
  },
  {
   "cell_type": "markdown",
   "id": "933e4f62-93a9-4ac8-b6cf-3c9c7433d556",
   "metadata": {},
   "source": [
    "A GeoJSON layer can also be created by providing a GeoJSON dictionary with the `data` parameter."
   ]
  },
  {
   "cell_type": "code",
   "execution_count": null,
   "id": "c7536bb5-4124-4a72-be36-0ce773798802",
   "metadata": {},
   "outputs": [],
   "source": [
    "with open(\"data/countries.geo.json\") as f:\n",
    "    countries_data = json.load(f)"
   ]
  },
  {
   "cell_type": "code",
   "execution_count": null,
   "id": "f06ff403-4aec-4b6e-9a99-3e7073232357",
   "metadata": {},
   "outputs": [],
   "source": [
    "countries = GeoJSONLayer(\n",
    "    data=countries_data,\n",
    "    style={\n",
    "        \"strokeColor\": \"#1976d2\",  # Blue\n",
    "        \"strokeWidth\": 50,\n",
    "    },\n",
    ")\n",
    "earth.add_layer(countries)"
   ]
  },
  {
   "cell_type": "markdown",
   "id": "82601903-e4fd-40e0-af8d-28321e029e14",
   "metadata": {},
   "source": [
    "Modifying the `data` layer attribute updates the layer view accordingly."
   ]
  },
  {
   "cell_type": "code",
   "execution_count": null,
   "id": "9f8a47d3-b89a-4687-8f72-2fa999734a80",
   "metadata": {},
   "outputs": [],
   "source": [
    "feature_france = [feature for feature in countries_data[\"features\"] if feature[\"id\"] == \"FRA\"]\n",
    "countries_data[\"features\"] = feature_france\n",
    "countries.data = countries_data"
   ]
  },
  {
   "cell_type": "code",
   "execution_count": null,
   "id": "86227174-c4e6-454b-b866-e926b8fd8239",
   "metadata": {},
   "outputs": [],
   "source": [
    "earth"
   ]
  },
  {
   "cell_type": "markdown",
   "id": "e568af5d-d777-4674-9a28-a56c19e218fd",
   "metadata": {},
   "source": [
    "## Sky\n",
    "\n",
    "Let's create a Sky view with a Hips layer as background."
   ]
  },
  {
   "cell_type": "code",
   "execution_count": null,
   "id": "99a1f7d2-627b-49e8-9064-672887ff7641",
   "metadata": {},
   "outputs": [],
   "source": [
    "sky = MizarMap(crs=CRS.Equatorial)\n",
    "hips = HipsLayer(url=\"http://alasky.unistra.fr/DSS/DSSColor\")\n",
    "sky.add_layer(hips)\n",
    "sky"
   ]
  },
  {
   "cell_type": "markdown",
   "id": "b8892247-ddb4-4c40-b4d9-57c81b66a31d",
   "metadata": {},
   "source": [
    "Similarly to the Planet example, a GeoJSON layer can be added with a URL (and a GeoJSON dictionary, not shown here)."
   ]
  },
  {
   "cell_type": "markdown",
   "id": "30129fe6-7c86-4e63-8bbe-27d464d77cd6",
   "metadata": {},
   "source": [
    "We add a FeatureCollection that consists of Polygons."
   ]
  },
  {
   "cell_type": "code",
   "execution_count": null,
   "id": "d85a5267-f164-475d-ab96-e43bc3e211a0",
   "metadata": {},
   "outputs": [],
   "source": [
    "euclid = GeoJSONLayer(\n",
    "    url=\"https://raw.githubusercontent.com/MizarWeb/Mizar/master/examples/data/Euclid.json\",\n",
    ")\n",
    "sky.add_layer(euclid)"
   ]
  }
 ],
 "metadata": {
  "kernelspec": {
   "display_name": "Python 3",
   "language": "python",
   "name": "python3"
  },
  "language_info": {
   "codemirror_mode": {
    "name": "ipython",
    "version": 3
   },
   "file_extension": ".py",
   "mimetype": "text/x-python",
   "name": "python",
   "nbconvert_exporter": "python",
   "pygments_lexer": "ipython3",
   "version": "3.6.13"
  },
  "widgets": {
   "application/vnd.jupyter.widget-state+json": {
    "state": {
     "14b9a1735da14982b8d899c2414a00f4": {
      "model_module": "@jupyter-widgets/base",
      "model_module_version": "1.2.0",
      "model_name": "LayoutModel",
      "state": {}
     },
     "1fdbfcfd93ab4d6ba6b32a52b3d0b12e": {
      "model_module": "jupyter-mizar",
      "model_module_version": "^0.1.0",
      "model_name": "MizarOSMLayerModel",
      "state": {
       "_model_module_version": "^0.1.0",
       "_view_module_version": "^0.1.0",
       "url": "https://c.tile.openstreetmap.org"
      }
     },
     "21c466d50ff24fb68e959422a365d09f": {
      "model_module": "jupyter-mizar",
      "model_module_version": "^0.1.0",
      "model_name": "MizarMapModel",
      "state": {
       "_geo_pos": [
        -96.6,
        37.4
       ],
       "_model_module_version": "^0.1.0",
       "_view_module_version": "^0.1.0",
       "layers": [
        "IPY_MODEL_1fdbfcfd93ab4d6ba6b32a52b3d0b12e",
        "IPY_MODEL_ff8d249e757f404e82fc3c3e2516117a"
       ],
       "layout": "IPY_MODEL_14b9a1735da14982b8d899c2414a00f4",
       "options": [],
       "time": "",
       "window_url": "http://localhost:8888/lab/tree/GeoJSON.ipynb",
       "zoom": [
        0,
        0
       ]
      }
     },
     "ff8d249e757f404e82fc3c3e2516117a": {
      "model_module": "jupyter-mizar",
      "model_module_version": "^0.1.0",
      "model_name": "MizarGeoJSONLayerModel",
      "state": {
       "_model_module_version": "^0.1.0",
       "_view_module_version": "^0.1.0",
       "style": {
        "strokeColor": "#fffe29",
        "strokeWidth": 5
       },
       "url": "https://raw.githubusercontent.com/MizarWeb/Mizar/master/examples/data/multiPolygon.json"
      }
     }
    },
    "version_major": 2,
    "version_minor": 0
   }
  }
 },
 "nbformat": 4,
 "nbformat_minor": 5
}
