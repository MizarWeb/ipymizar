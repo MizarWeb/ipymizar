{
 "cells": [
  {
   "cell_type": "markdown",
   "id": "cc86acab-5634-4194-9158-66a4802a7030",
   "metadata": {},
   "source": [
    "# Hips Layer"
   ]
  },
  {
   "cell_type": "code",
   "execution_count": null,
   "id": "f975276d-2941-4228-ae5f-9b5c7c8832c8",
   "metadata": {},
   "outputs": [],
   "source": [
    "from ipymizar import CRS, MizarMap, HipsLayer, GeoJSONLayer"
   ]
  },
  {
   "cell_type": "code",
   "execution_count": null,
   "id": "a673c8c1-a0bf-4eb1-86f8-6a4fe7251488",
   "metadata": {},
   "outputs": [],
   "source": [
    "sky = MizarMap(crs=CRS.Equatorial)\n",
    "hips = HipsLayer(url=\"http://alasky.unistra.fr/DSS/DSSColor\")\n",
    "sky.add_layer(hips)\n",
    "sky"
   ]
  }
 ],
 "metadata": {
  "kernelspec": {
   "display_name": "Python 3",
   "language": "python",
   "name": "python3"
  },
  "language_info": {
   "codemirror_mode": {
    "name": "ipython",
    "version": 3
   },
   "file_extension": ".py",
   "mimetype": "text/x-python",
   "name": "python",
   "nbconvert_exporter": "python",
   "pygments_lexer": "ipython3",
   "version": "3.6.13"
  },
  "widgets": {
   "application/vnd.jupyter.widget-state+json": {
    "state": {
     "0bbbf1f6d31842abaf88f3281c173c78": {
      "model_module": "jupyter-mizar",
      "model_module_version": "^0.1.0",
      "model_name": "MizarMapModel",
      "state": {
       "_model_module_version": "^0.1.0",
       "_view_module_version": "^0.1.0",
       "crs": "Equatorial",
       "layers": [
        "IPY_MODEL_0d5957eceab8410c8b93e667d19ca326",
        "IPY_MODEL_24f510d8c2ce43ef9507867360f81658"
       ],
       "layout": "IPY_MODEL_6e8663805a754944ad5b4b23228e4b95",
       "options": [],
       "time": "",
       "window_url": "http://localhost:8888/lab/tree/Hips.ipynb",
       "zoom": [
        0,
        0
       ]
      }
     },
     "0d5957eceab8410c8b93e667d19ca326": {
      "model_module": "jupyter-mizar",
      "model_module_version": "^0.1.0",
      "model_name": "MizarHipsLayerModel",
      "state": {
       "_model_module_version": "^0.1.0",
       "_view_module_version": "^0.1.0",
       "url": "http://alasky.unistra.fr/DSS/DSSColor"
      }
     },
     "24f510d8c2ce43ef9507867360f81658": {
      "model_module": "jupyter-mizar",
      "model_module_version": "^0.1.0",
      "model_name": "MizarGeoJSONLayerModel",
      "state": {
       "_model_module_version": "^0.1.0",
       "_view_module_version": "^0.1.0",
       "background": false,
       "url": "https://raw.githubusercontent.com/MizarWeb/Mizar/master/examples/data/Euclid.json"
      }
     },
     "6e8663805a754944ad5b4b23228e4b95": {
      "model_module": "@jupyter-widgets/base",
      "model_module_version": "1.2.0",
      "model_name": "LayoutModel",
      "state": {}
     }
    },
    "version_major": 2,
    "version_minor": 0
   }
  }
 },
 "nbformat": 4,
 "nbformat_minor": 5
}
