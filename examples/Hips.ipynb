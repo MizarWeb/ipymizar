{
 "cells": [
  {
   "cell_type": "code",
   "execution_count": null,
   "id": "68fd5733-e44f-4ca7-9450-5fee9e043976",
   "metadata": {},
   "outputs": [],
   "source": [
    "# To avoid having to restart the kernel\n",
    "%load_ext autoreload\n",
    "%autoreload 2"
   ]
  },
  {
   "cell_type": "code",
   "execution_count": null,
   "id": "f975276d-2941-4228-ae5f-9b5c7c8832c8",
   "metadata": {},
   "outputs": [],
   "source": [
    "from ipymizar import CRS, MizarMap, HipsLayer"
   ]
  },
  {
   "cell_type": "code",
   "execution_count": null,
   "id": "a673c8c1-a0bf-4eb1-86f8-6a4fe7251488",
   "metadata": {},
   "outputs": [],
   "source": [
    "sky = MizarMap(crs=CRS.Equatorial)\n",
    "hips = HipsLayer(url=\"http://alasky.unistra.fr/DSS/DSSColor\")\n",
    "sky.add_layer(hips)\n",
    "sky"
   ]
  },
  {
   "cell_type": "code",
   "execution_count": null,
   "id": "2a4c3af5-b405-4171-987a-0e4984a37905",
   "metadata": {},
   "outputs": [],
   "source": [
    "hips.url"
   ]
  }
 ],
 "metadata": {
  "kernelspec": {
   "display_name": "Python 3",
   "language": "python",
   "name": "python3"
  },
  "language_info": {
   "codemirror_mode": {
    "name": "ipython",
    "version": 3
   },
   "file_extension": ".py",
   "mimetype": "text/x-python",
   "name": "python",
   "nbconvert_exporter": "python",
   "pygments_lexer": "ipython3",
   "version": "3.6.13"
  },
  "widgets": {
   "application/vnd.jupyter.widget-state+json": {
    "state": {},
    "version_major": 2,
    "version_minor": 0
   }
  }
 },
 "nbformat": 4,
 "nbformat_minor": 5
}
