{
 "cells": [
  {
   "cell_type": "code",
   "execution_count": null,
   "id": "500cc798-0dbd-442e-b550-f0c70b276446",
   "metadata": {},
   "outputs": [],
   "source": [
    "# To avoid having to restart the kernel\n",
    "%load_ext autoreload\n",
    "%autoreload 2"
   ]
  },
  {
   "cell_type": "code",
   "execution_count": null,
   "id": "e0001ea8-7b3e-49dd-8dfd-ed2ebb4e2955",
   "metadata": {},
   "outputs": [],
   "source": [
    "import json\n",
    "\n",
    "from ipymizar import CRS, MizarMap, OSMLayer, GeoJSONLayer"
   ]
  },
  {
   "cell_type": "code",
   "execution_count": null,
   "id": "f9c7709d-6915-4c00-acc2-226183e9d051",
   "metadata": {},
   "outputs": [],
   "source": [
    "earth = MizarMap(crs=CRS.WGS84)\n",
    "osm = OSMLayer()\n",
    "earth.add_layer(osm)\n",
    "earth"
   ]
  },
  {
   "cell_type": "markdown",
   "id": "f72fafff-9214-4cc5-9a23-ae7282a9570a",
   "metadata": {},
   "source": [
    "It's not possible to add a layer already added to the map."
   ]
  },
  {
   "cell_type": "code",
   "execution_count": null,
   "id": "ff7849bd-e3df-426e-982a-459c8720c591",
   "metadata": {},
   "outputs": [],
   "source": [
    "earth.add_layer(osm)"
   ]
  },
  {
   "cell_type": "code",
   "execution_count": null,
   "id": "55054b66-46b4-45b0-aaa3-90ba981bf429",
   "metadata": {},
   "outputs": [],
   "source": [
    "earth.remove_layer(osm)"
   ]
  },
  {
   "cell_type": "code",
   "execution_count": null,
   "id": "87211a4c-23f4-49fa-9292-4ee333e464a6",
   "metadata": {},
   "outputs": [],
   "source": [
    "with open(\"data/countries.geo.json\") as f:\n",
    "    data = json.load(f)"
   ]
  },
  {
   "cell_type": "code",
   "execution_count": null,
   "id": "c6a7083a-3284-4eb8-8197-965fd646bf60",
   "metadata": {},
   "outputs": [],
   "source": [
    "geojson = GeoJSONLayer(\n",
    "    data=data,\n",
    "    style={\n",
    "        \"color\": \"#1976d2\",\n",
    "        \"strokeWidth\": 50,\n",
    "    },\n",
    ")"
   ]
  },
  {
   "cell_type": "code",
   "execution_count": null,
   "id": "894c0215-ddef-4972-bf74-6ea0ebaf06e6",
   "metadata": {},
   "outputs": [],
   "source": [
    "earth.add_layer(geojson)"
   ]
  },
  {
   "cell_type": "code",
   "execution_count": null,
   "id": "57bfb874-3648-4b25-aee5-883bb77015a7",
   "metadata": {},
   "outputs": [],
   "source": [
    "earth.remove_layer(geojson)"
   ]
  },
  {
   "cell_type": "code",
   "execution_count": null,
   "id": "73fa8134-fda3-4238-826c-d7367d348a71",
   "metadata": {},
   "outputs": [],
   "source": [
    "earth.add_layer(geojson)"
   ]
  },
  {
   "cell_type": "code",
   "execution_count": null,
   "id": "0327f6e2-a778-45f5-b683-f1238c22d3ae",
   "metadata": {},
   "outputs": [],
   "source": [
    "earth.clear_layers()"
   ]
  },
  {
   "cell_type": "code",
   "execution_count": null,
   "id": "59bd8d6a-2211-460b-a237-17f3e19c2640",
   "metadata": {},
   "outputs": [],
   "source": []
  }
 ],
 "metadata": {
  "kernelspec": {
   "display_name": "Python 3",
   "language": "python",
   "name": "python3"
  },
  "language_info": {
   "codemirror_mode": {
    "name": "ipython",
    "version": 3
   },
   "file_extension": ".py",
   "mimetype": "text/x-python",
   "name": "python",
   "nbconvert_exporter": "python",
   "pygments_lexer": "ipython3",
   "version": "3.6.13"
  },
  "widgets": {
   "application/vnd.jupyter.widget-state+json": {
    "state": {},
    "version_major": 2,
    "version_minor": 0
   }
  }
 },
 "nbformat": 4,
 "nbformat_minor": 5
}
