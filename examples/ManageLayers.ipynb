{
 "cells": [
  {
   "cell_type": "markdown",
   "id": "f0db6ad6-cc88-40f8-9a37-1543bc227bbb",
   "metadata": {},
   "source": [
    "# Manage layers"
   ]
  },
  {
   "cell_type": "code",
   "execution_count": null,
   "id": "e0001ea8-7b3e-49dd-8dfd-ed2ebb4e2955",
   "metadata": {},
   "outputs": [],
   "source": [
    "import json\n",
    "\n",
    "from ipymizar import CRS, MizarMap, OSMLayer, GeoJSONLayer"
   ]
  },
  {
   "cell_type": "markdown",
   "id": "e28f3cf6-0246-4b75-9775-82a3e13e29d9",
   "metadata": {},
   "source": [
    "There are three methods useful to manage the layers displayed on a map."
   ]
  },
  {
   "cell_type": "code",
   "execution_count": null,
   "id": "f9c7709d-6915-4c00-acc2-226183e9d051",
   "metadata": {},
   "outputs": [],
   "source": [
    "earth = MizarMap(crs=CRS.WGS84)\n",
    "osm = OSMLayer()\n",
    "earth.add_layer(osm)\n",
    "earth"
   ]
  },
  {
   "cell_type": "markdown",
   "id": "f72fafff-9214-4cc5-9a23-ae7282a9570a",
   "metadata": {},
   "source": [
    "It's not possible to add a layer already added to the map."
   ]
  },
  {
   "cell_type": "code",
   "execution_count": null,
   "id": "ff7849bd-e3df-426e-982a-459c8720c591",
   "metadata": {},
   "outputs": [],
   "source": [
    "earth.add_layer(osm)"
   ]
  },
  {
   "cell_type": "markdown",
   "id": "48945f73-5229-4250-a3e7-5c337dff11f1",
   "metadata": {},
   "source": [
    "A layer can be removed from a map with `remove_layer` (the current view is not being properly updated)."
   ]
  },
  {
   "cell_type": "code",
   "execution_count": null,
   "id": "55054b66-46b4-45b0-aaa3-90ba981bf429",
   "metadata": {},
   "outputs": [],
   "source": [
    "earth.remove_layer(osm)"
   ]
  },
  {
   "cell_type": "code",
   "execution_count": null,
   "id": "c6fc4f1a-0e5e-4f83-be86-6c599059ebfc",
   "metadata": {},
   "outputs": [],
   "source": [
    "earth"
   ]
  },
  {
   "cell_type": "code",
   "execution_count": null,
   "id": "dea6db54-4ee1-4064-a669-72555db9b4da",
   "metadata": {},
   "outputs": [],
   "source": [
    "earth.add_layer(osm)"
   ]
  },
  {
   "cell_type": "code",
   "execution_count": null,
   "id": "87211a4c-23f4-49fa-9292-4ee333e464a6",
   "metadata": {},
   "outputs": [],
   "source": [
    "with open(\"data/countries.geo.json\") as f:\n",
    "    data = json.load(f)"
   ]
  },
  {
   "cell_type": "code",
   "execution_count": null,
   "id": "c6a7083a-3284-4eb8-8197-965fd646bf60",
   "metadata": {},
   "outputs": [],
   "source": [
    "geojson = GeoJSONLayer(\n",
    "    data=data,\n",
    "    style={\n",
    "        \"color\": \"#1976d2\",\n",
    "        \"strokeWidth\": 50,\n",
    "    },\n",
    ")"
   ]
  },
  {
   "cell_type": "code",
   "execution_count": null,
   "id": "894c0215-ddef-4972-bf74-6ea0ebaf06e6",
   "metadata": {},
   "outputs": [],
   "source": [
    "earth.add_layer(geojson)"
   ]
  },
  {
   "cell_type": "markdown",
   "id": "136b4ab7-68ee-4a53-a585-568c33beadc1",
   "metadata": {},
   "source": [
    "`clear_layers` remove all the layers at once (same problem as with `remove_layer` though)."
   ]
  },
  {
   "cell_type": "code",
   "execution_count": null,
   "id": "0327f6e2-a778-45f5-b683-f1238c22d3ae",
   "metadata": {},
   "outputs": [],
   "source": [
    "earth.clear_layers()"
   ]
  },
  {
   "cell_type": "code",
   "execution_count": null,
   "id": "59bd8d6a-2211-460b-a237-17f3e19c2640",
   "metadata": {},
   "outputs": [],
   "source": [
    "earth"
   ]
  }
 ],
 "metadata": {
  "kernelspec": {
   "display_name": "Python 3",
   "language": "python",
   "name": "python3"
  },
  "language_info": {
   "codemirror_mode": {
    "name": "ipython",
    "version": 3
   },
   "file_extension": ".py",
   "mimetype": "text/x-python",
   "name": "python",
   "nbconvert_exporter": "python",
   "pygments_lexer": "ipython3",
   "version": "3.6.13"
  },
  "widgets": {
   "application/vnd.jupyter.widget-state+json": {
    "state": {
     "84aac7bd9ea34fffad1608b8af853acb": {
      "model_module": "jupyter-mizar",
      "model_module_version": "^0.1.0",
      "model_name": "MizarOSMLayerModel",
      "state": {
       "_model_module_version": "^0.1.0",
       "_view_module_version": "^0.1.0",
       "url": "https://c.tile.openstreetmap.org"
      }
     },
     "ca46fea5314a4f2e9884a3f92ee82f6b": {
      "model_module": "@jupyter-widgets/base",
      "model_module_version": "1.2.0",
      "model_name": "LayoutModel",
      "state": {}
     },
     "ff02b2914c364cfba11aa954eb92291f": {
      "model_module": "jupyter-mizar",
      "model_module_version": "^0.1.0",
      "model_name": "MizarMapModel",
      "state": {
       "_model_module_version": "^0.1.0",
       "_view_module_version": "^0.1.0",
       "layout": "IPY_MODEL_ca46fea5314a4f2e9884a3f92ee82f6b",
       "options": [],
       "time": "",
       "window_url": "http://localhost:8891/lab/tree/ManageLayers.ipynb",
       "zoom": [
        0,
        0
       ]
      }
     }
    },
    "version_major": 2,
    "version_minor": 0
   }
  }
 },
 "nbformat": 4,
 "nbformat_minor": 5
}
