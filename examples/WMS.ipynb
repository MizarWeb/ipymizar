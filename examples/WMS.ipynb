{
 "cells": [
  {
   "cell_type": "code",
   "execution_count": null,
   "id": "68fd5733-e44f-4ca7-9450-5fee9e043976",
   "metadata": {},
   "outputs": [],
   "source": [
    "# To avoid having to restart the kernel\n",
    "%load_ext autoreload\n",
    "%autoreload 2"
   ]
  },
  {
   "cell_type": "code",
   "execution_count": null,
   "id": "f975276d-2941-4228-ae5f-9b5c7c8832c8",
   "metadata": {},
   "outputs": [],
   "source": [
    "from ipymizar import CRS, MizarMap, WMSLayer"
   ]
  },
  {
   "cell_type": "code",
   "execution_count": null,
   "id": "a673c8c1-a0bf-4eb1-86f8-6a4fe7251488",
   "metadata": {
    "tags": []
   },
   "outputs": [],
   "source": [
    "earth = MizarMap(crs=CRS.WGS84)\n",
    "wms = WMSLayer(url=\"http://hysope-proto.cst.cnes.fr/map/wms\", layers=\"hysope-background-global\",background=True)\n",
    "earth.add_layer(wms)\n",
    "earth"
   ]
  },
  {
   "cell_type": "code",
   "execution_count": null,
   "id": "2a4c3af5-b405-4171-987a-0e4984a37905",
   "metadata": {},
   "outputs": [],
   "source": [
    "wms.url"
   ]
  },
  {
   "cell_type": "code",
   "execution_count": null,
   "id": "f3b3a4f9-834c-4497-93ec-aeaf04d93f50",
   "metadata": {},
   "outputs": [],
   "source": [
    "occSol = WMSLayer(url=\"http://opf-proto.cst.cnes.fr/mapserver/\", layers=\"OccSolOSO\",background=False, transparent=True, format=\"image/png\")\n",
    "earth.add_layer(occSol)"
   ]
  },
  {
   "cell_type": "code",
   "execution_count": null,
   "id": "821dd7a5-2db2-4dd9-a6c4-5b7ab0cc2771",
   "metadata": {},
   "outputs": [],
   "source": [
    "glypho = WMSLayer(url=\"http://opf-proto.cst.cnes.fr/mapserver/\", layers=\"Glyphosate\",background=False, transparent=True, format=\"image/png\")\n",
    "earth.add_layer(glypho)"
   ]
  },
  {
   "cell_type": "code",
   "execution_count": null,
   "id": "5957bea9-7f0d-4c99-83fe-10cc28fa5562",
   "metadata": {},
   "outputs": [],
   "source": [
    "earth.time = \"2016-01-01T00:00:00.000Z\""
   ]
  },
  {
   "cell_type": "code",
   "execution_count": null,
   "id": "6f81c4a9-8d9f-41fd-8e74-c6f84a6ad831",
   "metadata": {},
   "outputs": [],
   "source": [
    "earth.time = \"2018-01-01T00:00:00.000Z\""
   ]
  },
  {
   "cell_type": "code",
   "execution_count": null,
   "id": "67c4fe77-9618-466c-931c-11830ec59fc7",
   "metadata": {},
   "outputs": [],
   "source": [
    "earth.time = \"2017-01-01T00:00:00.000Z\""
   ]
  },
  {
   "cell_type": "code",
   "execution_count": null,
   "id": "5df0aa29-5bed-4fed-96e9-1a8742832df0",
   "metadata": {},
   "outputs": [],
   "source": [
    "glypho.opacity = 50"
   ]
  },
  {
   "cell_type": "code",
   "execution_count": null,
   "id": "80b14dc4-1664-41d6-afc8-af1755e5cc9b",
   "metadata": {},
   "outputs": [],
   "source": []
  }
 ],
 "metadata": {
  "kernelspec": {
   "display_name": "Python 3",
   "language": "python",
   "name": "python3"
  },
  "language_info": {
   "codemirror_mode": {
    "name": "ipython",
    "version": 3
   },
   "file_extension": ".py",
   "mimetype": "text/x-python",
   "name": "python",
   "nbconvert_exporter": "python",
   "pygments_lexer": "ipython3",
   "version": "3.6.13"
  },
  "widgets": {
   "application/vnd.jupyter.widget-state+json": {
    "state": {},
    "version_major": 2,
    "version_minor": 0
   }
  }
 },
 "nbformat": 4,
 "nbformat_minor": 5
}
