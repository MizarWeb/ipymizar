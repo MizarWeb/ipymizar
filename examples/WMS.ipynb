{
 "cells": [
  {
   "cell_type": "markdown",
   "metadata": {},
   "source": [
    "# WMS"
   ]
  },
  {
   "cell_type": "code",
   "execution_count": 1,
   "metadata": {},
   "outputs": [],
   "source": [
    "from ipymizar import CRS, MizarMap, WMSLayer"
   ]
  },
  {
   "cell_type": "markdown",
   "metadata": {},
   "source": [
    "Let's add a background WMS map."
   ]
  },
  {
   "cell_type": "code",
   "execution_count": 2,
   "metadata": {
    "tags": []
   },
   "outputs": [
    {
     "data": {
      "application/vnd.jupyter.widget-view+json": {
       "model_id": "adac32387f9746198c2c4d643be6fa8e",
       "version_major": 2,
       "version_minor": 0
      },
      "text/plain": [
       "MizarMap(center=(0.0, 0.0), layers=(WMSLayer(layers='viking', url='http://idoc-wmsmars.ias.u-psud.fr/cgi-bin/m…"
      ]
     },
     "metadata": {},
     "output_type": "display_data"
    }
   ],
   "source": [
    "mars = MizarMap(crs=CRS.WGS84)\n",
    "wms = WMSLayer(\n",
    "    url=\"http://idoc-wmsmars.ias.u-psud.fr/cgi-bin/mapserv?map=/home/cnes/mars/mars.map\",\n",
    "    layers=\"viking\",\n",
    "    background=True\n",
    ")\n",
    "mars.add_layer(wms)\n",
    "mars"
   ]
  },
  {
   "cell_type": "markdown",
   "metadata": {},
   "source": [
    "We're going to add another WMS layer (on top on the first one), let's zoom first to its location"
   ]
  },
  {
   "cell_type": "code",
   "execution_count": 3,
   "metadata": {},
   "outputs": [],
   "source": [
    "mars.zoom_to((1.7, 46.3), distance=2e6)"
   ]
  },
  {
   "cell_type": "markdown",
   "metadata": {},
   "source": [
    "We declare this layer as not becoming the background (True by default), as transparent (False by default) and retrieved as PNG (JPEG by default)."
   ]
  },
  {
   "cell_type": "code",
   "execution_count": 4,
   "metadata": {},
   "outputs": [],
   "source": [
    "themis = WMSLayer(\n",
    "    url=\"http://idoc-wmsmars.ias.u-psud.fr/cgi-bin/mapserv?map=/home/cnes/mars/mars.map\",\n",
    "    layers=\"themis_day_ir_100m\",\n",
    "    background=False,\n",
    "    transparent=True,\n",
    "    format=\"image/png\"\n",
    ")\n",
    "mars.add_layer(themis)"
   ]
  },
  {
   "cell_type": "code",
   "execution_count": null,
   "metadata": {},
   "outputs": [],
   "source": []
  }
 ],
 "metadata": {
  "kernelspec": {
   "display_name": "Python 3",
   "language": "python",
   "name": "python3"
  },
  "language_info": {
   "codemirror_mode": {
    "name": "ipython",
    "version": 3
   },
   "file_extension": ".py",
   "mimetype": "text/x-python",
   "name": "python",
   "nbconvert_exporter": "python",
   "pygments_lexer": "ipython3",
   "version": "3.8.5"
  },
  "widgets": {
   "application/vnd.jupyter.widget-state+json": {
    "state": {},
    "version_major": 2,
    "version_minor": 0
   }
  }
 },
 "nbformat": 4,
 "nbformat_minor": 5
}
