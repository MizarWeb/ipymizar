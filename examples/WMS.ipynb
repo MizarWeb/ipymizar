{
 "cells": [
  {
   "cell_type": "markdown",
   "id": "7c24ce49-5ad0-48bb-8a15-6c335ea73586",
   "metadata": {},
   "source": [
    "# WMS"
   ]
  },
  {
   "cell_type": "code",
   "execution_count": null,
   "id": "f975276d-2941-4228-ae5f-9b5c7c8832c8",
   "metadata": {},
   "outputs": [],
   "source": [
    "from ipymizar import CRS, MizarMap, WMSLayer"
   ]
  },
  {
   "cell_type": "markdown",
   "id": "0835bd36-4eeb-4982-8976-990013237a1a",
   "metadata": {},
   "source": [
    "Let's add a background WMS map."
   ]
  },
  {
   "cell_type": "code",
   "execution_count": null,
   "id": "a673c8c1-a0bf-4eb1-86f8-6a4fe7251488",
   "metadata": {
    "tags": []
   },
   "outputs": [],
   "source": [
    "earth = MizarMap(crs=CRS.WGS84)\n",
    "wms = WMSLayer(\n",
    "    url=\"http://hysope-proto.cst.cnes.fr/map/wms\",\n",
    "    layers=\"hysope-background-global\",\n",
    "    background=True\n",
    ")\n",
    "earth.add_layer(wms)\n",
    "earth"
   ]
  },
  {
   "cell_type": "markdown",
   "id": "b75fcdca-6374-485e-b26e-372b0d811c63",
   "metadata": {},
   "source": [
    "We're going to add another WMS layer (on top on the first one), let's zoom first to its location"
   ]
  },
  {
   "cell_type": "code",
   "execution_count": null,
   "id": "7d50c9c7-2647-483b-95e4-e51493298763",
   "metadata": {},
   "outputs": [],
   "source": [
    "earth.zoom_to((1.7, 46.3), distance=2e6)"
   ]
  },
  {
   "cell_type": "markdown",
   "id": "b3b3401d-32e2-4c3b-bc73-e17a75b527dd",
   "metadata": {},
   "source": [
    "We declare this layer as not becoming the background (True by default), as transparent (False by default) and retrieved as PNG (JPEG by default)."
   ]
  },
  {
   "cell_type": "code",
   "execution_count": null,
   "id": "f3b3a4f9-834c-4497-93ec-aeaf04d93f50",
   "metadata": {},
   "outputs": [],
   "source": [
    "occSol = WMSLayer(\n",
    "    url=\"http://opf-proto.cst.cnes.fr/mapserver/\",\n",
    "    layers=\"OccSolOSO\",\n",
    "    background=False,\n",
    "    transparent=True,\n",
    "    format=\"image/png\"\n",
    ")\n",
    "earth.add_layer(occSol)"
   ]
  }
 ],
 "metadata": {
  "kernelspec": {
   "display_name": "Python 3",
   "language": "python",
   "name": "python3"
  },
  "language_info": {
   "codemirror_mode": {
    "name": "ipython",
    "version": 3
   },
   "file_extension": ".py",
   "mimetype": "text/x-python",
   "name": "python",
   "nbconvert_exporter": "python",
   "pygments_lexer": "ipython3",
   "version": "3.6.13"
  },
  "widgets": {
   "application/vnd.jupyter.widget-state+json": {
    "state": {},
    "version_major": 2,
    "version_minor": 0
   }
  }
 },
 "nbformat": 4,
 "nbformat_minor": 5
}
